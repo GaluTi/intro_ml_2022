{
 "cells": [
  {
   "cell_type": "code",
   "execution_count": null,
   "metadata": {},
   "outputs": [],
   "source": [
    "import pandas as pd\n",
    "import numpy as np\n",
    "import pandasql as psql\n",
    "\n",
    "import matplotlib.pyplot as plt"
   ]
  },
  {
   "cell_type": "markdown",
   "metadata": {},
   "source": [
    "## Read the data"
   ]
  },
  {
   "cell_type": "code",
   "execution_count": null,
   "metadata": {},
   "outputs": [],
   "source": [
    "db = pd.read_csv(\"db.csv\")"
   ]
  },
  {
   "cell_type": "code",
   "execution_count": null,
   "metadata": {},
   "outputs": [],
   "source": [
    "db"
   ]
  },
  {
   "cell_type": "markdown",
   "metadata": {},
   "source": [
    "## Basic queries"
   ]
  },
  {
   "cell_type": "markdown",
   "metadata": {},
   "source": [
    "**[EXAMPLE]** Grep all rows and all columns"
   ]
  },
  {
   "cell_type": "code",
   "execution_count": null,
   "metadata": {
    "scrolled": true
   },
   "outputs": [],
   "source": [
    "q = \"\"\"\n",
    "SELECT\n",
    "    *\n",
    "FROM db\n",
    "\"\"\"\n",
    "\n",
    "print(psql.sqldf(q))"
   ]
  },
  {
   "cell_type": "markdown",
   "metadata": {},
   "source": [
    "**[EXAMPLE]** Grep all `user_id` and `order_id` pairs"
   ]
  },
  {
   "cell_type": "code",
   "execution_count": null,
   "metadata": {
    "scrolled": false
   },
   "outputs": [],
   "source": [
    "q = \"\"\"\n",
    "SELECT\n",
    "    user_id,\n",
    "    order_id\n",
    "FROM db\n",
    "\"\"\"\n",
    "\n",
    "print(psql.sqldf(q))"
   ]
  },
  {
   "cell_type": "markdown",
   "metadata": {},
   "source": [
    "**[EXAMPLE]** Grep 100 `order_ids`"
   ]
  },
  {
   "cell_type": "code",
   "execution_count": null,
   "metadata": {
    "scrolled": false
   },
   "outputs": [],
   "source": [
    "q = \"\"\"\n",
    "SELECT\n",
    "    order_id\n",
    "FROM db\n",
    "LIMIT 100\n",
    "\"\"\"\n",
    "\n",
    "print(psql.sqldf(q))"
   ]
  },
  {
   "cell_type": "markdown",
   "metadata": {},
   "source": [
    "**[EXAMPLE]** Grep `dts` and `order_ids` that were on Sep 13th"
   ]
  },
  {
   "cell_type": "code",
   "execution_count": null,
   "metadata": {
    "scrolled": false
   },
   "outputs": [],
   "source": [
    "q = \"\"\"\n",
    "SELECT\n",
    "    dt,\n",
    "    order_id\n",
    "FROM db\n",
    "WHERE dt == \"2022-09-13\"\n",
    "\"\"\"\n",
    "\n",
    "print(psql.sqldf(q))"
   ]
  },
  {
   "cell_type": "markdown",
   "metadata": {},
   "source": [
    "**[EXAMPLE]** Grep `dttms` and `order_ids` that were on Sep 13th before **9 AM**. \n",
    "\n",
    "**Order** the input by date and time"
   ]
  },
  {
   "cell_type": "code",
   "execution_count": null,
   "metadata": {
    "scrolled": false
   },
   "outputs": [],
   "source": [
    "q = \"\"\"\n",
    "SELECT\n",
    "    dttm,\n",
    "    order_id\n",
    "FROM db\n",
    "WHERE \n",
    "    dt == \"2022-09-13\"\n",
    "    AND dttm <= \"2022-09-13 08:59:59\"\n",
    "ORDER BY dttm\n",
    "\"\"\"\n",
    "\n",
    "print(psql.sqldf(q))"
   ]
  },
  {
   "cell_type": "markdown",
   "metadata": {},
   "source": [
    "## Aggregations"
   ]
  },
  {
   "cell_type": "markdown",
   "metadata": {},
   "source": [
    "**[EXAMPLE]** Count rows in the table"
   ]
  },
  {
   "cell_type": "code",
   "execution_count": null,
   "metadata": {
    "scrolled": false
   },
   "outputs": [],
   "source": [
    "q = \"\"\"\n",
    "SELECT\n",
    "    COUNT(*)\n",
    "FROM db\n",
    "\"\"\"\n",
    "\n",
    "print(psql.sqldf(q))"
   ]
  },
  {
   "cell_type": "markdown",
   "metadata": {},
   "source": [
    "**[EXAMPLE]** Count number of distinct users"
   ]
  },
  {
   "cell_type": "code",
   "execution_count": null,
   "metadata": {
    "scrolled": false
   },
   "outputs": [],
   "source": [
    "q = \"\"\"\n",
    "SELECT\n",
    "    COUNT(DISTINCT user_id)\n",
    "FROM db\n",
    "\"\"\"\n",
    "\n",
    "print(psql.sqldf(q))"
   ]
  },
  {
   "cell_type": "markdown",
   "metadata": {},
   "source": [
    "**[EXAMPLE]** Count number of orders with non-empty cards"
   ]
  },
  {
   "cell_type": "code",
   "execution_count": null,
   "metadata": {
    "scrolled": false
   },
   "outputs": [],
   "source": [
    "q = \"\"\"\n",
    "SELECT\n",
    "    COUNT(card_id)\n",
    "FROM db\n",
    "\"\"\"\n",
    "\n",
    "print(psql.sqldf(q))"
   ]
  },
  {
   "cell_type": "markdown",
   "metadata": {},
   "source": [
    "**[TASK 1]** Find rate of orders that were payed by card"
   ]
  },
  {
   "cell_type": "code",
   "execution_count": null,
   "metadata": {
    "scrolled": false
   },
   "outputs": [],
   "source": [
    "q = \"\"\"\n",
    "\"\"\"\n",
    "\n",
    "print(psql.sqldf(q))"
   ]
  },
  {
   "cell_type": "markdown",
   "metadata": {},
   "source": [
    "**[TASK 2]** Find the largest order cost"
   ]
  },
  {
   "cell_type": "code",
   "execution_count": null,
   "metadata": {
    "scrolled": false
   },
   "outputs": [],
   "source": [
    "q = \"\"\"\n",
    "\"\"\"\n",
    "\n",
    "print(psql.sqldf(q))"
   ]
  },
  {
   "cell_type": "markdown",
   "metadata": {},
   "source": [
    "**[TASK 3]** Find number of percents by which the most expensive order is bigger than average order. Round to 2 digits afer the comma"
   ]
  },
  {
   "cell_type": "code",
   "execution_count": null,
   "metadata": {
    "scrolled": true
   },
   "outputs": [],
   "source": [
    "q = \"\"\"\n",
    "\"\"\"\n",
    "\n",
    "print(psql.sqldf(q))"
   ]
  },
  {
   "cell_type": "markdown",
   "metadata": {},
   "source": [
    "**[TASK 4]** Count number of users that have made an order with amount larger then 400"
   ]
  },
  {
   "cell_type": "code",
   "execution_count": null,
   "metadata": {
    "scrolled": false
   },
   "outputs": [],
   "source": [
    "q = \"\"\"\n",
    "\"\"\"\n",
    "\n",
    "print(psql.sqldf(q))"
   ]
  },
  {
   "cell_type": "markdown",
   "metadata": {},
   "source": [
    "**[TASK 5]** Find sum of all orders payed by card"
   ]
  },
  {
   "cell_type": "code",
   "execution_count": null,
   "metadata": {
    "scrolled": false
   },
   "outputs": [],
   "source": [
    "q = \"\"\"\n",
    "\"\"\"\n",
    "\n",
    "print(psql.sqldf(q))"
   ]
  },
  {
   "cell_type": "markdown",
   "metadata": {},
   "source": [
    "## GROUP BY and SUBQUERIES"
   ]
  },
  {
   "cell_type": "markdown",
   "metadata": {},
   "source": [
    "**[EXAMPLE]** Get number of orders per each user. Sort the output by the number of orders descending"
   ]
  },
  {
   "cell_type": "code",
   "execution_count": null,
   "metadata": {
    "scrolled": false
   },
   "outputs": [],
   "source": [
    "q = \"\"\"\n",
    "SELECT\n",
    "    user_id,\n",
    "    COUNT(order_id) AS orders_cnt\n",
    "FROM db\n",
    "GROUP BY user_id\n",
    "ORDER BY orders_cnt DESC\n",
    "\"\"\"\n",
    "\n",
    "print(psql.sqldf(q))"
   ]
  },
  {
   "cell_type": "markdown",
   "metadata": {},
   "source": [
    "**[EXAMPLE]** Find user_ids that have spent more than 1000 amnt"
   ]
  },
  {
   "cell_type": "code",
   "execution_count": null,
   "metadata": {
    "scrolled": false
   },
   "outputs": [],
   "source": [
    "q = \"\"\"\n",
    "SELECT\n",
    "    user_id\n",
    "FROM db\n",
    "GROUP BY user_id\n",
    "HAVING SUM(amount) > 1000\n",
    "\"\"\"\n",
    "\n",
    "print(psql.sqldf(q))"
   ]
  },
  {
   "cell_type": "markdown",
   "metadata": {},
   "source": [
    "**[EXAMPLE]** Lets call a user lifetime  a difference in days between first order and last order. Find all users lifetimes and sort by them in a descending order"
   ]
  },
  {
   "cell_type": "code",
   "execution_count": null,
   "metadata": {
    "scrolled": false
   },
   "outputs": [],
   "source": [
    "q = \"\"\"\n",
    "SELECT\n",
    "    user_id,\n",
    "    CAST(strftime(\"%d\", MAX(dt)) AS Int32) - CAST(strftime(\"%d\", MIN(dt)) AS Int32) AS diff\n",
    "FROM db\n",
    "GROUP BY user_id\n",
    "ORDER BY diff DESC\n",
    "\"\"\"\n",
    "\n",
    "print(psql.sqldf(q))"
   ]
  },
  {
   "cell_type": "markdown",
   "metadata": {},
   "source": [
    "**[TASK 6]** Calculate average user lifetime"
   ]
  },
  {
   "cell_type": "code",
   "execution_count": null,
   "metadata": {
    "scrolled": false
   },
   "outputs": [],
   "source": [
    "q = \"\"\"\n",
    "\"\"\"\n",
    "\n",
    "print(psql.sqldf(q))"
   ]
  },
  {
   "cell_type": "markdown",
   "metadata": {},
   "source": [
    "## Join"
   ]
  },
  {
   "cell_type": "markdown",
   "metadata": {},
   "source": [
    "**[EXAMPLE]** Let's consider user to be loyal, if they made at least 5 orders. Output all orders of loyal users."
   ]
  },
  {
   "cell_type": "code",
   "execution_count": null,
   "metadata": {
    "scrolled": false
   },
   "outputs": [],
   "source": [
    "q = \"\"\"\n",
    "SELECT\n",
    "    order_id,\n",
    "    user_id\n",
    "FROM db AS t1\n",
    "INNER JOIN (\n",
    "    SELECT\n",
    "        user_id\n",
    "    FROM db\n",
    "    GROUP BY user_id\n",
    "    HAVING COUNT(*) >= 3\n",
    ") AS t USING(user_id)\n",
    "\"\"\"\n",
    "\n",
    "print(psql.sqldf(q))"
   ]
  },
  {
   "cell_type": "markdown",
   "metadata": {},
   "source": [
    "**[TASK 7]** Find orders of users that have both card and cardless orders"
   ]
  },
  {
   "cell_type": "code",
   "execution_count": null,
   "metadata": {
    "scrolled": false
   },
   "outputs": [],
   "source": [
    "q = \"\"\"\n",
    "\"\"\"\n",
    "\n",
    "print(psql.sqldf(q))"
   ]
  },
  {
   "cell_type": "markdown",
   "metadata": {},
   "source": [
    "**[TASK 8]** For each order display its absolute diff between its amount and min amount of the user"
   ]
  },
  {
   "cell_type": "code",
   "execution_count": null,
   "metadata": {
    "scrolled": false
   },
   "outputs": [],
   "source": [
    "q = \"\"\"\n",
    "\"\"\"\n",
    "\n",
    "print(psql.sqldf(q))"
   ]
  },
  {
   "cell_type": "markdown",
   "metadata": {},
   "source": [
    "**[TASK 9]** For each user find chronologically first order_id"
   ]
  },
  {
   "cell_type": "code",
   "execution_count": null,
   "metadata": {
    "scrolled": false
   },
   "outputs": [],
   "source": [
    "q = \"\"\"\n",
    "\"\"\"\n",
    "\n",
    "print(psql.sqldf(q))"
   ]
  },
  {
   "cell_type": "markdown",
   "metadata": {},
   "source": [
    "## Window functions"
   ]
  },
  {
   "cell_type": "markdown",
   "metadata": {},
   "source": [
    "**[EXAMPLE]** For each order display its number for the user"
   ]
  },
  {
   "cell_type": "code",
   "execution_count": null,
   "metadata": {
    "scrolled": false
   },
   "outputs": [],
   "source": [
    "q = \"\"\"\n",
    "SELECT\n",
    "    order_id,\n",
    "    user_id,\n",
    "    dttm,\n",
    "    ROW_NUMBER() OVER w AS order_rank\n",
    "FROM db\n",
    "WINDOW w AS (PARTITION BY user_id ORDER BY dttm)\n",
    "LIMIT 5\n",
    "\"\"\"\n",
    "\n",
    "print(psql.sqldf(q))"
   ]
  },
  {
   "cell_type": "markdown",
   "metadata": {},
   "source": [
    "**[EXAMPLE]** For each order display running total amount per user"
   ]
  },
  {
   "cell_type": "code",
   "execution_count": null,
   "metadata": {
    "scrolled": false
   },
   "outputs": [],
   "source": [
    "q = \"\"\"\n",
    "SELECT\n",
    "    order_id,\n",
    "    user_id,\n",
    "    dttm,\n",
    "    amount,\n",
    "    SUM(amount) OVER w AS run_amount\n",
    "FROM db\n",
    "WINDOW w AS (PARTITION BY user_id ORDER BY dttm)\n",
    "LIMIT 5\n",
    "\"\"\"\n",
    "\n",
    "print(psql.sqldf(q))"
   ]
  },
  {
   "cell_type": "markdown",
   "metadata": {},
   "source": [
    "**[TASK]** For each order display if it is more expensive than previous one (function `LAG`, `LEAD`)"
   ]
  },
  {
   "cell_type": "code",
   "execution_count": null,
   "metadata": {
    "scrolled": false
   },
   "outputs": [],
   "source": [
    "q = \"\"\"\n",
    "\"\"\"\n",
    "\n",
    "print(psql.sqldf(q))"
   ]
  },
  {
   "cell_type": "markdown",
   "metadata": {},
   "source": [
    "**[TASK 10]** For each order display if it is the last order"
   ]
  },
  {
   "cell_type": "code",
   "execution_count": null,
   "metadata": {
    "scrolled": false
   },
   "outputs": [],
   "source": [
    "q = \"\"\"\n",
    "\"\"\"\n",
    "\n",
    "print(psql.sqldf(q))"
   ]
  },
  {
   "cell_type": "markdown",
   "metadata": {},
   "source": [
    "**[TASK 11]** For each order user display the first order"
   ]
  },
  {
   "cell_type": "code",
   "execution_count": null,
   "metadata": {
    "scrolled": false
   },
   "outputs": [],
   "source": [
    "q = \"\"\"\n",
    "\"\"\"\n",
    "\n",
    "print(psql.sqldf(q))"
   ]
  },
  {
   "cell_type": "markdown",
   "metadata": {},
   "source": [
    "**[TASK 12]** Display all users who had orders on two consecutive days"
   ]
  },
  {
   "cell_type": "code",
   "execution_count": null,
   "metadata": {
    "scrolled": false
   },
   "outputs": [],
   "source": [
    "q = \"\"\"\n",
    "\"\"\"\n",
    "\n",
    "print(psql.sqldf(q))"
   ]
  },
  {
   "cell_type": "markdown",
   "metadata": {},
   "source": [
    "**[TASK 13]** Find all orders of users who never decreased amounts of orders (each order is more expensive or equal to the previous one)"
   ]
  },
  {
   "cell_type": "code",
   "execution_count": null,
   "metadata": {
    "scrolled": false
   },
   "outputs": [],
   "source": [
    "q = \"\"\"\n",
    "\"\"\"\n",
    "print(psql.sqldf(q))"
   ]
  }
 ],
 "metadata": {
  "kernelspec": {
   "display_name": "Python 3",
   "language": "python",
   "name": "python3"
  },
  "language_info": {
   "codemirror_mode": {
    "name": "ipython",
    "version": 3
   },
   "file_extension": ".py",
   "mimetype": "text/x-python",
   "name": "python",
   "nbconvert_exporter": "python",
   "pygments_lexer": "ipython3",
   "version": "3.8.10"
  }
 },
 "nbformat": 4,
 "nbformat_minor": 4
}
