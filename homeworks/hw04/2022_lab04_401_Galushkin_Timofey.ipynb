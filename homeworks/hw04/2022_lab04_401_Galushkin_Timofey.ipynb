{
 "cells": [
  {
   "cell_type": "markdown",
   "metadata": {},
   "source": [
    "# Lab 04. Text Classification\n",
    "\n",
    "\n",
    "This lab is devoted to text classification tasks.\n",
    "- **Part 1 [8 points]** is about very common NLP problem - sentiment analysis.\n",
    "- **Part 2 [7 points]** include tasks on POS tagging and WordEmbeddings.\n",
    "\n",
    "\n",
    "#### Evaluation\n",
    "\n",
    "Each task has its value, **15 points** in total. If you use some open-source code please make sure to include the url.\n",
    "\n",
    "#### How to submit\n",
    "\n",
    "- Name your file according to this convention: `lab04_GroupNo_Surname_Name.ipynb`. If you don't have group number, put `nan` instead.\n",
    "- Attach it to an **email** with **topic** `lab04_GroupNo_Surname_Name.ipynb`\n",
    "- Send it to `cosmic.research.ml@yandex.ru`\n",
    "- Deadline is ` 2022-11-24 23:00:00 +03:00`"
   ]
  },
  {
   "cell_type": "markdown",
   "metadata": {},
   "source": [
    "## Part 1. Bag of Words vs. Bag of Popcorn [8 points]"
   ]
  },
  {
   "cell_type": "markdown",
   "metadata": {},
   "source": [
    "This task is based on [Bag of Words Meets Bags of Popcorn](https://www.kaggle.com/c/word2vec-nlp-tutorial/data) competition. The goal is to label film reviews as positive or negative. \n",
    "\n",
    "Reviews may look like this:\n",
    "\n",
    "```\n",
    "I dont know why people think this is such a bad movie. Its got a pretty good plot, some good action, and the change of location for Harry does not hurt either. Sure some of its offensive and gratuitous but this is not the only movie like that. Eastwood is in good form as Dirty Harry, and I liked Pat Hingle in this movie as the small town cop. If you liked DIRTY HARRY, then you should see this one, its a lot better than THE DEAD POOL. 4/5\n",
    "```"
   ]
  },
  {
   "cell_type": "code",
   "execution_count": 1,
   "metadata": {},
   "outputs": [],
   "source": [
    "import pandas as pd\n",
    "import numpy as np\n",
    "import matplotlib.pyplot as plt\n",
    "import nltk"
   ]
  },
  {
   "cell_type": "code",
   "execution_count": 2,
   "metadata": {},
   "outputs": [
    {
     "data": {
      "text/html": [
       "<div>\n",
       "<style scoped>\n",
       "    .dataframe tbody tr th:only-of-type {\n",
       "        vertical-align: middle;\n",
       "    }\n",
       "\n",
       "    .dataframe tbody tr th {\n",
       "        vertical-align: top;\n",
       "    }\n",
       "\n",
       "    .dataframe thead th {\n",
       "        text-align: right;\n",
       "    }\n",
       "</style>\n",
       "<table border=\"1\" class=\"dataframe\">\n",
       "  <thead>\n",
       "    <tr style=\"text-align: right;\">\n",
       "      <th></th>\n",
       "      <th>id</th>\n",
       "      <th>sentiment</th>\n",
       "      <th>review</th>\n",
       "    </tr>\n",
       "  </thead>\n",
       "  <tbody>\n",
       "    <tr>\n",
       "      <th>0</th>\n",
       "      <td>5814_8</td>\n",
       "      <td>1</td>\n",
       "      <td>With all this stuff going down at the moment w...</td>\n",
       "    </tr>\n",
       "    <tr>\n",
       "      <th>1</th>\n",
       "      <td>2381_9</td>\n",
       "      <td>1</td>\n",
       "      <td>\\The Classic War of the Worlds\\\" by Timothy Hi...</td>\n",
       "    </tr>\n",
       "    <tr>\n",
       "      <th>2</th>\n",
       "      <td>7759_3</td>\n",
       "      <td>0</td>\n",
       "      <td>The film starts with a manager (Nicholas Bell)...</td>\n",
       "    </tr>\n",
       "  </tbody>\n",
       "</table>\n",
       "</div>"
      ],
      "text/plain": [
       "       id  sentiment                                             review\n",
       "0  5814_8          1  With all this stuff going down at the moment w...\n",
       "1  2381_9          1  \\The Classic War of the Worlds\\\" by Timothy Hi...\n",
       "2  7759_3          0  The film starts with a manager (Nicholas Bell)..."
      ]
     },
     "execution_count": 2,
     "metadata": {},
     "output_type": "execute_result"
    }
   ],
   "source": [
    "reviews = pd.read_csv(\"reviews.tsv\", sep=\"\\t\")\n",
    "reviews.head(3)"
   ]
  },
  {
   "cell_type": "code",
   "execution_count": 3,
   "metadata": {},
   "outputs": [],
   "source": [
    "X = reviews[\"review\"]\n",
    "y = reviews[\"sentiment\"]"
   ]
  },
  {
   "cell_type": "code",
   "execution_count": 4,
   "metadata": {},
   "outputs": [],
   "source": [
    "from sklearn.model_selection import train_test_split"
   ]
  },
  {
   "cell_type": "code",
   "execution_count": 5,
   "metadata": {},
   "outputs": [],
   "source": [
    "X_train, X_test, y_train, y_test = train_test_split(X, y, test_size=5000, random_state=42, stratify=y)"
   ]
  },
  {
   "cell_type": "markdown",
   "metadata": {},
   "source": [
    "### Time to extract features\n",
    "\n",
    "In this part of the assignment we will apply several methods of feature extraction and comapre them."
   ]
  },
  {
   "cell_type": "markdown",
   "metadata": {},
   "source": [
    "**Task 1.1 [0.5 point] - Simple BOW** \n",
    "\n",
    "In this task we will build a simple bow representation - without any preprocessing. \n",
    "\n",
    "For this purpose we will use [*CountVectorizer*](https://scikit-learn.org/stable/modules/generated/sklearn.feature_extraction.text.CountVectorizer.html#sklearn.feature_extraction.text.CountVectorizer) - a method that transforms text dataset into a [sparse matrix](https://docs.scipy.org/doc/scipy/reference/sparse.html)."
   ]
  },
  {
   "cell_type": "markdown",
   "metadata": {},
   "source": [
    "Import CountVectorizer:"
   ]
  },
  {
   "cell_type": "code",
   "execution_count": 6,
   "metadata": {},
   "outputs": [],
   "source": [
    "from sklearn.feature_extraction.text import CountVectorizer"
   ]
  },
  {
   "cell_type": "markdown",
   "metadata": {},
   "source": [
    "Now try each of these approaches:\n",
    "- fit vectorizer on X_train, apply to X_train, X_test\n",
    "- fit vectorizer on X_train, apply to X_train; fit on X_test, apply to X_test\n",
    "- fit vectorizer on X, apply to X_train, X_test\n",
    "\n",
    "Report output matrix sizes in each case. \n",
    "- What is the difference? \n",
    "- Which of these approaches is the most fair and correct?\n",
    "\n",
    "Use the most fair and correct one to get `X_train_0` and `X_test_0` - they will be needed for further tasks."
   ]
  },
  {
   "cell_type": "code",
   "execution_count": 7,
   "metadata": {},
   "outputs": [
    {
     "name": "stdout",
     "output_type": "stream",
     "text": [
      "(20000, 68482) (5000, 68482)\n"
     ]
    }
   ],
   "source": [
    "count_vectorizer = CountVectorizer()\n",
    "\n",
    "count_vectorizer.fit(X_train)\n",
    "X_train_0 = count_vectorizer.transform(X_train)\n",
    "X_test_0 = count_vectorizer.transform(X_test)\n",
    "\n",
    "print(X_train_0.shape, X_test_0.shape)"
   ]
  },
  {
   "cell_type": "code",
   "execution_count": 8,
   "metadata": {},
   "outputs": [
    {
     "name": "stdout",
     "output_type": "stream",
     "text": [
      "(20000, 68482) (5000, 38591)\n"
     ]
    }
   ],
   "source": [
    "count_vectorizer = CountVectorizer()\n",
    "\n",
    "count_vectorizer.fit(X_train)\n",
    "X_train_0 = count_vectorizer.transform(X_train)\n",
    "count_vectorizer.fit(X_test)\n",
    "X_test_0 = count_vectorizer.transform(X_test)\n",
    "\n",
    "print(X_train_0.shape, X_test_0.shape)"
   ]
  },
  {
   "cell_type": "code",
   "execution_count": 9,
   "metadata": {},
   "outputs": [
    {
     "name": "stdout",
     "output_type": "stream",
     "text": [
      "(20000, 74849) (5000, 74849)\n"
     ]
    }
   ],
   "source": [
    "count_vectorizer = CountVectorizer()\n",
    "\n",
    "count_vectorizer.fit(X)\n",
    "X_train_0 = count_vectorizer.transform(X_train)\n",
    "X_test_0 = count_vectorizer.transform(X_test)\n",
    "\n",
    "print(X_train_0.shape, X_test_0.shape)"
   ]
  },
  {
   "cell_type": "markdown",
   "metadata": {},
   "source": [
    "The main difference between them is the number of features (words). So the most fair and correct approach is the firdt as we count each word in train dataset and know nothing about test dataset"
   ]
  },
  {
   "cell_type": "code",
   "execution_count": 10,
   "metadata": {},
   "outputs": [
    {
     "name": "stdout",
     "output_type": "stream",
     "text": [
      "(20000, 68482) (5000, 68482)\n"
     ]
    }
   ],
   "source": [
    "count_vectorizer = CountVectorizer()\n",
    "\n",
    "count_vectorizer.fit(X_train)\n",
    "X_train_0 = count_vectorizer.transform(X_train)\n",
    "X_test_0 = count_vectorizer.transform(X_test)\n",
    "\n",
    "print(X_train_0.shape, X_test_0.shape)"
   ]
  },
  {
   "cell_type": "code",
   "execution_count": 11,
   "metadata": {},
   "outputs": [
    {
     "name": "stdout",
     "output_type": "stream",
     "text": [
      "<class 'scipy.sparse._csr.csr_matrix'> <class 'scipy.sparse._csr.csr_matrix'>\n"
     ]
    }
   ],
   "source": [
    "print(type(X_train_0), type(X_test_0))"
   ]
  },
  {
   "cell_type": "markdown",
   "metadata": {},
   "source": [
    "**Task 1.2 [0.5 point] - S___se matrices**\n",
    "\n",
    "What is the data type of `X_train_0` and `X_test_0`? What are those?\n",
    "\n",
    "What differs them from usual np.arrays? Name several types how those special matrices are stored and what they are good for."
   ]
  },
  {
   "cell_type": "markdown",
   "metadata": {},
   "source": [
    "*Answer:*\n",
    "- The data type of `X_train_0` and `X_test_0` is *sparse matrix*;  \n",
    "- As it has a lot of null elements, there are some different type of sparse matrices which help more rationally to store the data.  \n",
    "There are  \n",
    "Compressed Sparse Column format and Compressed Sparse Row format to work with the number of non-null values ​​in each row or column;  \n",
    "COOrdinate format helps to quickly get the coordinates of any non-null element;  \n",
    "Dictionary of Keys helps with a set of coordinates (keys) to quickly go through all non-null values."
   ]
  },
  {
   "cell_type": "markdown",
   "metadata": {},
   "source": [
    "**Task 1.3 [1 points] - Training**\n",
    "\n",
    "Train LogisticRegression and Random forest on this data representations.\n",
    "- Compare training time \n",
    "- Compare Accuracy, precision, recall \n",
    "- Plot ROC Curve and calculate ROC AUC (don't forget to predict_proba) \n",
    "- Plot Precision-Recall curve and calculate f1-score (for example, with `plt.subplots(nrows=1, ncols=2)`)\n",
    "- Print the trickiest missclassified objects. Why they were hard to classify? \n"
   ]
  },
  {
   "cell_type": "code",
   "execution_count": 12,
   "metadata": {},
   "outputs": [],
   "source": [
    "from sklearn.ensemble import RandomForestClassifier\n",
    "from sklearn.linear_model import LogisticRegression\n",
    "import time as tm"
   ]
  },
  {
   "cell_type": "code",
   "execution_count": 13,
   "metadata": {},
   "outputs": [],
   "source": [
    "from sklearn.metrics import accuracy_score, precision_score, recall_score\n",
    "from sklearn.metrics import f1_score, precision_recall_curve, roc_curve, roc_auc_score, auc"
   ]
  },
  {
   "cell_type": "code",
   "execution_count": 14,
   "metadata": {},
   "outputs": [],
   "source": [
    "rf_model = RandomForestClassifier(n_estimators=500, n_jobs=-1)\n",
    "lr_model = LogisticRegression(max_iter=1e5, n_jobs=-1)"
   ]
  },
  {
   "cell_type": "code",
   "execution_count": 15,
   "metadata": {},
   "outputs": [
    {
     "name": "stdout",
     "output_type": "stream",
     "text": [
      "LR time is 15.30198\n"
     ]
    }
   ],
   "source": [
    "start_1 = tm.time()\n",
    "lr_model.fit(X_train_0, y_train)\n",
    "end_1 = tm.time()\n",
    "print(\"LR time is\", round(end_1 - start_1, 5))"
   ]
  },
  {
   "cell_type": "code",
   "execution_count": 16,
   "metadata": {},
   "outputs": [
    {
     "name": "stdout",
     "output_type": "stream",
     "text": [
      "RF time is 66.50741\n"
     ]
    }
   ],
   "source": [
    "start_2 = tm.time()\n",
    "rf_model.fit(X_train_0, y_train)\n",
    "end_2 = tm.time()\n",
    "print(\"RF time is\", round(end_2 - start_2, 5))"
   ]
  },
  {
   "cell_type": "markdown",
   "metadata": {},
   "source": [
    "There are large time difference!"
   ]
  },
  {
   "cell_type": "code",
   "execution_count": 17,
   "metadata": {},
   "outputs": [],
   "source": [
    "clf_predictions = []\n",
    "for clf in [lr_model, rf_model]:\n",
    "    pred = clf.predict(X_test_0)\n",
    "    clf_predictions.append(pred)"
   ]
  },
  {
   "cell_type": "code",
   "execution_count": 18,
   "metadata": {},
   "outputs": [],
   "source": [
    "accuracies = [accuracy_score(y_test, pred) for pred in clf_predictions]\n",
    "micro_precisions = [precision_score(y_test, pred, average=\"micro\", zero_division=1) for pred in clf_predictions] \n",
    "micro_recalls = [recall_score(y_test, pred, average=\"micro\", zero_division=1) for pred in clf_predictions] \n",
    "macro_precisions = [precision_score(y_test, pred, average=\"macro\", zero_division=1) for pred in clf_predictions] \n",
    "macro_recalls = [recall_score(y_test, pred, average=\"macro\", zero_division=1) for pred in clf_predictions] \n",
    "\n",
    "scores = [accuracies, micro_precisions, micro_recalls, macro_precisions, macro_recalls]\n",
    "names = [\"Accuracies\", \"Micro-Precisions\", \"Micro-Recalls\",  \"Macro-Precisions\", \"Macro-Recalls\"]"
   ]
  },
  {
   "cell_type": "code",
   "execution_count": 19,
   "metadata": {},
   "outputs": [
    {
     "data": {
      "image/png": "[encoded data removed]",
      "text/plain": [
       "<Figure size 2000x500 with 5 Axes>"
      ]
     },
     "metadata": {},
     "output_type": "display_data"
    }
   ],
   "source": [
    "fig, axs = plt.subplots(nrows=1, ncols=5, figsize=(20, 5), sharey=True)\n",
    "plt.setp(axs, ylim=(0, 1))\n",
    "\n",
    "xlabels = [\"lr\", \"rf\"]\n",
    "colors = [\"red\", \"blue\"]\n",
    "xticks = 1 + np.arange(len(xlabels))\n",
    "\n",
    "for ax, score, name in zip(axs, scores, names):\n",
    "    ax.bar(xticks, score, color=colors)\n",
    "    for i, v in enumerate(score):\n",
    "        ax.text(xticks[i] - 0.25, v + 0.01, \"{:.2f}\".format(v))\n",
    "    ax.set_xticks(xticks)\n",
    "    ax.set_xticklabels(xlabels)\n",
    "    ax.set_title(name)\n",
    "    ax.grid()\n",
    "\n",
    "plt.show()"
   ]
  },
  {
   "cell_type": "code",
   "execution_count": 20,
   "metadata": {},
   "outputs": [],
   "source": [
    "predict = []\n",
    "predict_proba = []\n",
    "for clf in [lr_model, rf_model]:\n",
    "    pred = clf.predict(X_test_0)\n",
    "    predict.append(pred)\n",
    "    pred = clf.predict_proba(X_test_0)[:, 1]\n",
    "    predict_proba.append(pred)"
   ]
  },
  {
   "cell_type": "code",
   "execution_count": 21,
   "metadata": {},
   "outputs": [
    {
     "data": {
      "image/png": "[encoded data removed]",
      "text/plain": [
       "<Figure size 1500x500 with 2 Axes>"
      ]
     },
     "metadata": {},
     "output_type": "display_data"
    }
   ],
   "source": [
    "fpr = dict()\n",
    "tpr = dict()\n",
    "roc_auc = dict()\n",
    "for i in range(2):\n",
    "    fpr[i], tpr[i], _ =  roc_curve(y_test, predict_proba[i])\n",
    "    roc_auc[i] = roc_auc_score(y_test, predict_proba[i])\n",
    "\n",
    "fig, ax = plt.subplots(nrows=1, ncols=2, figsize=(15, 5), sharey=True)\n",
    "fig.suptitle(\"ROC Curve\", fontsize=16)\n",
    "ax[0].plot(fpr[0], tpr[0], color=\"darkorange\", lw=2, label=\"ROC curve (area = %0.2f)\" % roc_auc[0])\n",
    "ax[0].set_title(\"Logistic Regression\")\n",
    "ax[0].set_ylabel('True Positive Rate')\n",
    "ax[0].set_xlabel('False Positive Rate')\n",
    "ax[0].plot([0, 1], [0, 1], color=\"navy\", lw=2, linestyle=\"--\")\n",
    "ax[0].set_xlim([0.0, 1.0])\n",
    "ax[0].set_ylim([0.0, 1.05])\n",
    "ax[0].legend(loc=\"lower right\")\n",
    "\n",
    "ax[1].plot(fpr[1], tpr[1], color=\"darkorange\", lw=2, label=\"ROC curve (area = %0.2f)\" % roc_auc[1])\n",
    "ax[1].set_title(\"Random Forest\")\n",
    "ax[1].set_ylabel('True Positive Rate')\n",
    "ax[1].set_xlabel('False Positive Rate')\n",
    "ax[1].plot([0, 1], [0, 1], color=\"navy\", lw=2, linestyle=\"--\")\n",
    "ax[1].set_xlim([0.0, 1.0])\n",
    "ax[1].set_ylim([0.0, 1.05])\n",
    "ax[1].legend(loc=\"lower right\")\n",
    "\n",
    "plt.show()\n"
   ]
  },
  {
   "cell_type": "code",
   "execution_count": 22,
   "metadata": {},
   "outputs": [
    {
     "data": {
      "image/png": "[encoded data removed]",
      "text/plain": [
       "<Figure size 1500x500 with 2 Axes>"
      ]
     },
     "metadata": {},
     "output_type": "display_data"
    }
   ],
   "source": [
    "precision = dict()\n",
    "recall = dict()\n",
    "thresholds = dict()\n",
    "f1_s = dict()\n",
    "for i in range(2):\n",
    "    precision[i], recall[i], thresholds[i] = precision_recall_curve(y_test, predict_proba[i])\n",
    "    f1_s[i] = f1_score(y_test, predict[i])\n",
    "    \n",
    "\n",
    "fig, ax = plt.subplots(nrows=1, ncols=2, figsize=(15, 5), sharey=True)\n",
    "fig.suptitle(\"Precision-Recall Curve\", fontsize=16)\n",
    "ax[0].plot(recall[0], precision[0], color='purple', label=\"f1 score = %0.2f\" % f1_s[0])\n",
    "ax[0].set_title(\"Logistic Regression\")\n",
    "ax[0].set_ylabel('Precision')\n",
    "ax[0].set_xlabel('Recall')\n",
    "ax[0].legend(loc=\"lower left\")\n",
    "\n",
    "ax[1].plot(recall[1], precision[1], color='purple', label=\"f1 score = %0.2f\" % f1_s[1])\n",
    "ax[1].set_title(\"Random Forest\")\n",
    "ax[1].set_ylabel('Precision')\n",
    "ax[1].set_xlabel('Recall')\n",
    "ax[1].legend(loc=\"lower left\")\n",
    "\n",
    "plt.show()    "
   ]
  },
  {
   "cell_type": "code",
   "execution_count": 148,
   "metadata": {},
   "outputs": [],
   "source": [
    "lr_missclass = []\n",
    "for a, b, c, d in zip(predict[0], y_test, X_test, predict_proba[0]):\n",
    "    if a != b:\n",
    "        lr_missclass.append([a, b, c, d])\n",
    "\n",
    "predict_proba_mis_rf = []\n",
    "rf_missclass = []\n",
    "for a, b, c, d in zip(predict[1], y_test, X_test, predict_proba[1]):\n",
    "    if a != b:\n",
    "        rf_missclass.append([a, b, c, d])"
   ]
  },
  {
   "cell_type": "markdown",
   "metadata": {},
   "source": [
    "Misclassified negative"
   ]
  },
  {
   "cell_type": "code",
   "execution_count": 163,
   "metadata": {},
   "outputs": [
    {
     "name": "stdout",
     "output_type": "stream",
     "text": [
      "     predict  real                                             review  \\\n",
      "581        1     0  If you hit your teens in the 70s, as I did, yo...   \n",
      "\n",
      "     predict proba  \n",
      "581       0.999999  \n"
     ]
    }
   ],
   "source": [
    "df_lr_missclass = pd.DataFrame(lr_missclass, columns=[\"predict\", \"real\", \"review\", \"predict proba\"])\n",
    "df_lr_missclass = df_lr_missclass.sort_values(by=\"predict proba\", ascending=False)\n",
    "print(df_lr_missclass.head(1))"
   ]
  },
  {
   "cell_type": "code",
   "execution_count": 164,
   "metadata": {},
   "outputs": [
    {
     "name": "stdout",
     "output_type": "stream",
     "text": [
      "[1, 0, \"If you hit your teens in the 70s, as I did, you probably remember the stories about Studio 54 whether or not you liked disco. An exclusive club, it was the perfect symbol of 70s cultural overindulgence and self-absorption; there's even an excellent VH1 documentary about the club that could tell you everything you wanted to know about its heyday, and the stories are easily interesting enough to spawn a very captivating film.<br /><br />Sadly, this isn't it. 54 follows the lives of a few of its employees, a bartender named Shane (Ryan Phillippe), a busboy named Greg (Breckin Meyer), his wife, a coat-check girl, Anita (Selma Hayek), and of course the master of ceremonies himself, Steve Rubell (Mike Meyers). While the goings-on at the club are well represented, this film concerns itself more with the personal lives of the workers, following Shane's story the closest.<br /><br />The movie works in spurts. Sometimes it captures perfectly the shallowness of the nightlife culture (such as when Shane is taken to a dinner party and doesn't know who 'Errol Flynt' is), and other times it waxes into hokey melodrama. Some of that is inherent in the premise \\x96 following the underlings as they mingle in the world of the rich and fabulous \\x96 but a lot of it is due to the kid-gloved treatment with which both the club and Rubell are given throughout the movie. While Rubell certainly electrified the scene in New York with his penchant for over-the-top spectacle and his exclusive hand-picking of the crowds each night, the rampant drugs and sexuality are only briefly touched on; and Rubell himself, while his excesses are mentioned, come off oddly positive for a guy who was in life a liar, a cheat, a drug abuser, and promiscuous as all hell. Not that I was looking for the man to be pilloried here, but his ego directly contributed to the fall of his club and the diminishing of the nightlife culture he helped to elevate. A final scene where he gazes down at the regulars paternally is so emotionally false as to be patently absurd.<br /><br />Meyers does his best to capture Rubell, but he's given so little to work with here it's surprising his performance is effective; but he's good, and he helps to anchor the film. Philippe, whom I find generally to be a good actor, is hamstrung here by the shallowness and stupidity of his character; he's limited to a deer-in-the-headlights smile or a sullen uncomprehending frown, and even he can't translate that into a strong performance. Hayek and Meyer are both okay, again, undercut by the writing, and Neve Campbell \\x96 prominently featured on the DVD cover \\x96 appears so briefly she really has an extended cameo.<br /><br />For some reason I still find myself interested, even fascinated, by the popular culture of the second half of the seventies. But even given that, this is not a film that particularly engaged me, despite a predisposition to like it. I'd say if that era, or that club, has any interest for you, track down the VH1 special rather than this middle-of-the-road melodrama.\", 0.9999990331839673]\n"
     ]
    }
   ],
   "source": [
    "print(lr_missclass[581])"
   ]
  },
  {
   "cell_type": "code",
   "execution_count": 165,
   "metadata": {},
   "outputs": [
    {
     "name": "stdout",
     "output_type": "stream",
     "text": [
      "     predict  real                                             review  \\\n",
      "397        1     0  One of Frances Farmer's earliest movies; at 22...   \n",
      "\n",
      "     predict proba  \n",
      "397          0.832  \n"
     ]
    }
   ],
   "source": [
    "df_rf_missclass = pd.DataFrame(rf_missclass, columns=[\"predict\", \"real\", \"review\", \"predict proba\"])\n",
    "df_rf_missclass = df_rf_missclass.sort_values(by=\"predict proba\", ascending=False)\n",
    "print(df_rf_missclass.head(1))"
   ]
  },
  {
   "cell_type": "code",
   "execution_count": 166,
   "metadata": {},
   "outputs": [
    {
     "name": "stdout",
     "output_type": "stream",
     "text": [
      "[1, 0, \"One of Frances Farmer's earliest movies; at 22, she is absolutely beautiful. Bing Crosby is in great voice, but the songs are not his best. Martha Raye and Bob Burns are interesting, but their comedy, probably great in its time, is really corny today. Roy Rogers also appears- in a singing role. In my view only worth watching if you are a Frances Farmer fan, and possibly a Bing Crosby fan.\", 0.832]\n"
     ]
    }
   ],
   "source": [
    "print(rf_missclass[397])"
   ]
  },
  {
   "cell_type": "markdown",
   "metadata": {},
   "source": [
    "Consider two misclassified objects, one from each model, with the highest probability. I think it's hard to classificate them because the text has a rather mixed opinion: there are some negative words about this film and a lot of positive words when compared with other films or something else."
   ]
  },
  {
   "cell_type": "markdown",
   "metadata": {},
   "source": [
    "Misclassified positive"
   ]
  },
  {
   "cell_type": "code",
   "execution_count": 167,
   "metadata": {},
   "outputs": [
    {
     "name": "stdout",
     "output_type": "stream",
     "text": [
      "     predict  real                                             review  \\\n",
      "237        0     1  Like the gentle giants that make up the latter...   \n",
      "\n",
      "     predict proba  \n",
      "237   1.524841e-07  \n"
     ]
    }
   ],
   "source": [
    "df_lr_missclass = pd.DataFrame(lr_missclass, columns=[\"predict\", \"real\", \"review\", \"predict proba\"])\n",
    "df_lr_missclass = df_lr_missclass.sort_values(by=\"predict proba\", ascending=True)\n",
    "print(df_lr_missclass.head(1))"
   ]
  },
  {
   "cell_type": "code",
   "execution_count": 168,
   "metadata": {},
   "outputs": [
    {
     "name": "stdout",
     "output_type": "stream",
     "text": [
      "[0, 1, 'Like the gentle giants that make up the latter half of this film\\'s title, Michael Oblowitz\\'s latest production has grace, but it\\'s also slow and ponderous. The producer\\'s last outing, \\\\Mosquitoman-3D\\\\\" had the same problem. It\\'s hard to imagine a boring shark movie, but they somehow managed it. The only draw for Hammerhead: Shark Frenzy was it\\'s passable animatronix, which is always fun when dealing with wondrous worlds beneath the ocean\\'s surface. But even that was only passable. Poor focus in some scenes made the production seems amateurish. With Dolphins and Whales, the technology is all but wasted. Cloudy scenes and too many close-ups of the film\\'s giant subjects do nothing to take advantage of IMAX\\'s stunning 3D capabilities. There are far too few scenes of any depth or variety. Close-ups of these awesome creatures just look flat and there is often only one creature in the cameras field, so there is no contrast of depth. Michael Oblowitz is trying to follow in his father\\'s footsteps, but when you\\'ve got Shark-Week on cable, his introspective and dull treatment of his subjects is a constant disappointment.\"', 1.5248410001759353e-07]\n"
     ]
    }
   ],
   "source": [
    "print(lr_missclass[237])"
   ]
  },
  {
   "cell_type": "code",
   "execution_count": 169,
   "metadata": {},
   "outputs": [
    {
     "name": "stdout",
     "output_type": "stream",
     "text": [
      "    predict  real                                             review  \\\n",
      "99        0     1  I wouldn't go so far as to not recommend this ...   \n",
      "\n",
      "    predict proba  \n",
      "99          0.232  \n"
     ]
    }
   ],
   "source": [
    "df_rf_missclass = pd.DataFrame(rf_missclass, columns=[\"predict\", \"real\", \"review\", \"predict proba\"])\n",
    "df_rf_missclass = df_rf_missclass.sort_values(by=\"predict proba\", ascending=True)\n",
    "print(df_rf_missclass.head(1))"
   ]
  },
  {
   "cell_type": "code",
   "execution_count": 170,
   "metadata": {},
   "outputs": [
    {
     "name": "stdout",
     "output_type": "stream",
     "text": [
      "[0, 1, \"I wouldn't go so far as to not recommend this movie, since the only problems I have with it are due to an overexposure to the plot devices used in the movie - the sort of things common to every kids movie ever made it seems. That doesn't make it bad, just not something I'd go far.<br /><br />It is a little saccharine, so I might say that for the most part anyone looking for something with a little more wit could be disappointed in an obviously for-kids movie like this.<br /><br />However, all of that goes out the window when that squirrel (the one in all the trailers) comes on-screen. His time is limited, but it seems apparent that the decision makers had the wisdom to tell these guys 'hey, could you stick in a little more squirrel?' every time it's getting intolerably dull. That doesn't save the movie, but you can leave saying 'at least there was one aspect where I couldn't stop laughing.'<br /><br />And of course, visually it won't disappoint, but that's almost a given with Pixar flicks. Of all of their stuff, I'd put this at the bottom...but that isn't in itself bad.\", 0.232]\n"
     ]
    }
   ],
   "source": [
    "print(rf_missclass[99])"
   ]
  },
  {
   "cell_type": "markdown",
   "metadata": {},
   "source": [
    "It also uses a lot of complex constructions with negative words, but the general idea is positive."
   ]
  },
  {
   "cell_type": "code",
   "execution_count": 26,
   "metadata": {},
   "outputs": [
    {
     "name": "stdout",
     "output_type": "stream",
     "text": [
      "Random Forest train data accuracy 1.0\n"
     ]
    }
   ],
   "source": [
    "print(\"Random Forest train data accuracy\", accuracy_score(y_train, rf_model.predict(X_train_0)))"
   ]
  },
  {
   "cell_type": "markdown",
   "metadata": {},
   "source": [
    "Which model gives higher scores? Any ideas why? Please suggest 1-2 reasons.\n",
    "\n",
    "*Answer:*\n",
    "The score is higher in the `Logistic Regression`. I think this is due to the fact that the Random Forest tends to overfit. As we can see on the train data, the forest gives an excellent score."
   ]
  },
  {
   "cell_type": "markdown",
   "metadata": {},
   "source": [
    "### More sophisticated feature prerocessing\n",
    "\n",
    "As we have seen, simple BOW can give us some result - it's time to improve it.\n",
    "\n",
    "**Task 1.4 [1 point] - Frequencies calculation**\n",
    "\n",
    "- Calculate top-20 words in train set and test set. *Are they meaningful?*\n",
    "- Import `stopwords` and print some of them. What are those?\n",
    "- Recalculate top-20 words in each set, but exclude stop words.\n",
    "- Does now top-20 include more useful words?"
   ]
  },
  {
   "cell_type": "code",
   "execution_count": 27,
   "metadata": {},
   "outputs": [],
   "source": [
    "from collections import Counter\n",
    "from nltk.tokenize import WhitespaceTokenizer, WordPunctTokenizer, TreebankWordTokenizer\n",
    "from nltk.corpus import stopwords"
   ]
  },
  {
   "cell_type": "code",
   "execution_count": 28,
   "metadata": {},
   "outputs": [
    {
     "name": "stdout",
     "output_type": "stream",
     "text": [
      "['00' '000' '0000000000001' ... 'østbye' 'über' 'üvegtigris']\n"
     ]
    }
   ],
   "source": [
    "print(count_vectorizer.get_feature_names_out())"
   ]
  },
  {
   "cell_type": "code",
   "execution_count": 29,
   "metadata": {},
   "outputs": [],
   "source": [
    "counts_train = pd.DataFrame(X_train_0.toarray(), columns=count_vectorizer.get_feature_names_out())"
   ]
  },
  {
   "cell_type": "code",
   "execution_count": 30,
   "metadata": {},
   "outputs": [],
   "source": [
    "counts_train_sum = counts_train.sum()"
   ]
  },
  {
   "cell_type": "code",
   "execution_count": 31,
   "metadata": {},
   "outputs": [
    {
     "data": {
      "text/plain": [
       "the      269967\n",
       "and      131776\n",
       "of       116943\n",
       "to       108751\n",
       "is        86164\n",
       "br        81649\n",
       "it        77403\n",
       "in        75100\n",
       "this      61066\n",
       "that      58846\n",
       "was       38660\n",
       "as        37446\n",
       "for       35511\n",
       "movie     35508\n",
       "with      35478\n",
       "but       34063\n",
       "film      32347\n",
       "on        27555\n",
       "you       27493\n",
       "not       24519\n",
       "dtype: int64"
      ]
     },
     "execution_count": 31,
     "metadata": {},
     "output_type": "execute_result"
    }
   ],
   "source": [
    "counts_train_sum.sort_values(ascending=False).head(20)"
   ]
  },
  {
   "cell_type": "code",
   "execution_count": 32,
   "metadata": {},
   "outputs": [],
   "source": [
    "counts_test = pd.DataFrame(X_test_0.toarray(), columns=count_vectorizer.get_feature_names_out())"
   ]
  },
  {
   "cell_type": "code",
   "execution_count": 33,
   "metadata": {},
   "outputs": [],
   "source": [
    "counts_test_sum = counts_test.sum()"
   ]
  },
  {
   "cell_type": "code",
   "execution_count": 34,
   "metadata": {},
   "outputs": [
    {
     "data": {
      "text/plain": [
       "the      66782\n",
       "and      32364\n",
       "of       28921\n",
       "to       26973\n",
       "is       21168\n",
       "br       20222\n",
       "it       19064\n",
       "in       18876\n",
       "this     14941\n",
       "that     14440\n",
       "was       9549\n",
       "as        9489\n",
       "for       8834\n",
       "with      8652\n",
       "but       8560\n",
       "movie     8539\n",
       "film      7812\n",
       "you       6774\n",
       "on        6647\n",
       "not       6113\n",
       "dtype: int64"
      ]
     },
     "execution_count": 34,
     "metadata": {},
     "output_type": "execute_result"
    }
   ],
   "source": [
    "counts_test_sum.sort_values(ascending=False).head(20)"
   ]
  },
  {
   "cell_type": "markdown",
   "metadata": {},
   "source": [
    "As we can see, the top 20 words are the same for the train and test data and not meaningful. Most of them are auxiliary parts of speech."
   ]
  },
  {
   "cell_type": "code",
   "execution_count": 35,
   "metadata": {},
   "outputs": [
    {
     "name": "stderr",
     "output_type": "stream",
     "text": [
      "[nltk_data] Downloading package stopwords to\n",
      "[nltk_data]     C:\\Users\\timo2\\AppData\\Roaming\\nltk_data...\n",
      "[nltk_data]   Package stopwords is already up-to-date!\n"
     ]
    },
    {
     "data": {
      "text/plain": [
       "True"
      ]
     },
     "execution_count": 35,
     "metadata": {},
     "output_type": "execute_result"
    }
   ],
   "source": [
    "nltk.download('stopwords')"
   ]
  },
  {
   "cell_type": "code",
   "execution_count": 36,
   "metadata": {},
   "outputs": [
    {
     "name": "stdout",
     "output_type": "stream",
     "text": [
      "{'about', 'then', 'them', 'than', \"you'd\", 'here', 'before', \"you've\", 'we', 'own', 'those', 'weren', 'what', 'just', 'this', 'her', 'ain', 'both', 'too', 'hasn', \"shan't\", 'further', 'into', 'up', 'now', 'during', 'i', \"you're\", 'not', 'or', 're', 'you', 'after', 'ours', 'any', 'if', 'she', 'below', \"haven't\", \"doesn't\", 'is', 'itself', 'because', 'did', 'off', 'when', 'few', 'same', 't', \"weren't\", 'above', 'ma', 'm', 'does', 'won', 'himself', \"she's\", 'all', 'on', 'can', 'him', 'where', 'for', 'which', 'until', 've', 'why', 'his', 'your', 'such', 'while', 'are', 'wouldn', 'whom', 'from', 'our', \"won't\", 'a', 'once', 'yours', \"don't\", 'again', 'haven', 'by', 'most', 'isn', \"isn't\", 'themselves', 'who', 'o', 'have', 'yourselves', 's', \"aren't\", 'shan', 'couldn', 'me', \"it's\", 'some', 'has', 'doesn', 'their', 'an', 'they', \"didn't\", \"that'll\", 'through', 'doing', 'wasn', 'having', 'how', 'but', 'under', \"you'll\", 'hers', 'as', \"wouldn't\", 'it', 'and', 'in', 'between', 'to', 'no', 'will', \"shouldn't\", 'these', 'each', 'being', 'with', 'ourselves', 'needn', 'of', 'he', 'didn', 'd', \"needn't\", 'out', 'more', 'at', 'mustn', 'other', 'do', 'down', 'should', \"should've\", 'yourself', 'll', 'had', 'only', \"wasn't\", 'nor', 'there', \"couldn't\", 'were', 'was', 'that', 'am', 'very', 'been', 'aren', 'don', 'hadn', 'so', 'y', \"mightn't\", 'over', \"mustn't\", 'shouldn', 'myself', 'its', 'against', \"hasn't\", 'herself', 'be', 'the', \"hadn't\", 'my', 'mightn', 'theirs'}\n"
     ]
    }
   ],
   "source": [
    "stops = set(stopwords.words('english'))\n",
    "print(stops)"
   ]
  },
  {
   "cell_type": "markdown",
   "metadata": {},
   "source": [
    "Stop words are an auxiliary parts of speech which we can find a lot in every text but they are not meaningful."
   ]
  },
  {
   "cell_type": "markdown",
   "metadata": {},
   "source": [
    "Let`s remove stop words"
   ]
  },
  {
   "cell_type": "code",
   "execution_count": 37,
   "metadata": {},
   "outputs": [],
   "source": [
    "filtered_features = [w for w in count_vectorizer.get_feature_names_out() if not w.lower() in stops]"
   ]
  },
  {
   "cell_type": "code",
   "execution_count": 38,
   "metadata": {},
   "outputs": [],
   "source": [
    "counts_train_f = counts_train[filtered_features]"
   ]
  },
  {
   "cell_type": "code",
   "execution_count": 39,
   "metadata": {},
   "outputs": [],
   "source": [
    "counts_train_sum_f = counts_train_f.sum()"
   ]
  },
  {
   "cell_type": "code",
   "execution_count": 40,
   "metadata": {},
   "outputs": [
    {
     "data": {
      "text/plain": [
       "br        81649\n",
       "movie     35508\n",
       "film      32347\n",
       "one       21616\n",
       "like      16287\n",
       "good      12015\n",
       "even      10200\n",
       "time      10146\n",
       "would      9927\n",
       "story      9599\n",
       "really     9437\n",
       "see        9267\n",
       "well       8550\n",
       "much       7876\n",
       "people     7501\n",
       "bad        7442\n",
       "get        7393\n",
       "also       7362\n",
       "great      7262\n",
       "first      7254\n",
       "dtype: int64"
      ]
     },
     "execution_count": 40,
     "metadata": {},
     "output_type": "execute_result"
    }
   ],
   "source": [
    "counts_train_sum_f.sort_values(ascending=False).head(20)"
   ]
  },
  {
   "cell_type": "code",
   "execution_count": 41,
   "metadata": {},
   "outputs": [],
   "source": [
    "counts_test_f = counts_test[filtered_features]"
   ]
  },
  {
   "cell_type": "code",
   "execution_count": 42,
   "metadata": {},
   "outputs": [],
   "source": [
    "counts_test_sum_f = counts_test_f.sum()"
   ]
  },
  {
   "cell_type": "code",
   "execution_count": 43,
   "metadata": {},
   "outputs": [
    {
     "data": {
      "text/plain": [
       "br        20222\n",
       "movie      8539\n",
       "film       7812\n",
       "one        5179\n",
       "like       3994\n",
       "good       3132\n",
       "time       2581\n",
       "would      2509\n",
       "even       2455\n",
       "story      2389\n",
       "really     2301\n",
       "see        2212\n",
       "well       2117\n",
       "get        1918\n",
       "much       1888\n",
       "bad        1866\n",
       "first      1810\n",
       "great      1798\n",
       "also       1797\n",
       "people     1786\n",
       "dtype: int64"
      ]
     },
     "execution_count": 43,
     "metadata": {},
     "output_type": "execute_result"
    }
   ],
   "source": [
    "counts_test_sum_f.sort_values(ascending=False).head(20)"
   ]
  },
  {
   "cell_type": "markdown",
   "metadata": {},
   "source": [
    "**There are more words describing the film now**"
   ]
  },
  {
   "cell_type": "markdown",
   "metadata": {},
   "source": [
    "**Task 1.5 [1 point] - Word Freqs by class**\n",
    "\n",
    "How do you think, will top100 tokens for positive and negative classes be different? Use data to prove your point."
   ]
  },
  {
   "cell_type": "markdown",
   "metadata": {},
   "source": [
    "*Answer:*\n",
    "I think *Yes*, at least for negative reviews there should be more negative words, and for positive - positive."
   ]
  },
  {
   "cell_type": "markdown",
   "metadata": {},
   "source": [
    "Let's see how it really is. We will use *filtered* features next."
   ]
  },
  {
   "cell_type": "code",
   "execution_count": 44,
   "metadata": {},
   "outputs": [],
   "source": [
    "tokens = []\n",
    "tk = WhitespaceTokenizer()\n",
    "for x in X_train:\n",
    "    tokens.append(tk.tokenize(x.lower()))"
   ]
  },
  {
   "cell_type": "code",
   "execution_count": 45,
   "metadata": {},
   "outputs": [],
   "source": [
    "tokens = [t for token in tokens for t in token if t not in stops]\n",
    "c = Counter(tokens)"
   ]
  },
  {
   "cell_type": "code",
   "execution_count": 46,
   "metadata": {},
   "outputs": [
    {
     "name": "stdout",
     "output_type": "stream",
     "text": [
      "{'/><br': 40824, 'movie': 24926, 'film': 22347, 'one': 18119, 'like': 15066, 'even': 9693, 'would': 9602, 'good': 9434, 'really': 8895, 'see': 8390, '-': 7494, 'get': 7115, 'much': 7077, 'story': 7014, 'also': 6448, 'first': 6400, 'time': 6379, 'people': 6215, 'great': 6151, 'make': 6066}\n"
     ]
    }
   ],
   "source": [
    "print(dict(c.most_common(20)))"
   ]
  },
  {
   "cell_type": "code",
   "execution_count": 47,
   "metadata": {},
   "outputs": [],
   "source": [
    "pos_tokens = []\n",
    "neg_tokens = []\n",
    "for x, y in zip(X_train, y_train):\n",
    "    if y == 1:\n",
    "        pos_tokens.append(tk.tokenize(x.lower()))\n",
    "    else:\n",
    "        neg_tokens.append(tk.tokenize(x.lower()))"
   ]
  },
  {
   "cell_type": "code",
   "execution_count": 48,
   "metadata": {},
   "outputs": [],
   "source": [
    "pos_tokens = [t for token in pos_tokens for t in token if t not in stops]\n",
    "neg_tokens = [t for token in neg_tokens for t in token if t not in stops]\n",
    "c1 = Counter(pos_tokens)\n",
    "c2 = Counter(neg_tokens)"
   ]
  },
  {
   "cell_type": "code",
   "execution_count": 49,
   "metadata": {},
   "outputs": [
    {
     "name": "stdout",
     "output_type": "stream",
     "text": [
      "Positive\n",
      "{'/><br': 19777, 'film': 11790, 'movie': 10956, 'one': 9412, 'like': 6728, 'good': 4787, 'great': 4407, 'see': 4345, 'really': 4207, 'would': 4203, 'story': 4058, 'also': 4004, '-': 3809, 'even': 3761, 'much': 3445, 'first': 3338, 'get': 3294, 'time': 3202, 'well': 3091, 'best': 2991, '/>the': 2969, 'people': 2944, 'many': 2900, 'love': 2866, 'two': 2734, 'think': 2721, 'made': 2590, 'never': 2563, 'little': 2561, 'make': 2527, 'could': 2475, 'still': 2395, 'way': 2331, 'seen': 2268, 'watch': 2210, 'films': 2184, '<br': 2174, 'characters': 2079, 'movies': 2078, 'character': 2075, 'it.': 2055, 'know': 2030, 'life': 1967, 'show': 1944, 'man': 1897, 'makes': 1893, 'ever': 1833, 'new': 1818, 'film,': 1785, 'film.': 1779, 'find': 1774, 'movie.': 1733, 'go': 1728, 'young': 1728, 'back': 1714, 'real': 1708, 'quite': 1623, 'years': 1599, 'better': 1580, 'scene': 1573, 'lot': 1564, 'may': 1559, 'say': 1554, 'every': 1543, 'something': 1539, 'always': 1538, 'us': 1516, 'old': 1486, 'acting': 1480, 'movie,': 1441, 'plot': 1438, 'scenes': 1423, '/>i': 1409, 'though': 1406, 'another': 1396, 'look': 1393, 'part': 1371, 'watching': 1365, 'end': 1341, 'actually': 1335, 'going': 1325, 'big': 1323, 'take': 1321, 'world': 1316, \"i'm\": 1315, 'saw': 1302, 'bit': 1298, 'cast': 1294, 'without': 1292, 'work': 1277, 'got': 1275, 'things': 1267, 'actors': 1235, 'must': 1233, 'give': 1231, 'seems': 1228, '&': 1225, 'almost': 1209, 'bad': 1201, 'pretty': 1185}\n",
      "Negative\n",
      "{'/><br': 21047, 'movie': 13970, 'film': 10557, 'one': 8707, 'like': 8338, 'even': 5932, 'would': 5399, 'really': 4688, 'good': 4647, 'bad': 4253, 'see': 4045, 'get': 3821, '-': 3685, 'much': 3632, 'could': 3579, 'make': 3539, 'people': 3271, 'time': 3177, 'made': 3076, 'first': 3062, 'story': 2956, '/>the': 2916, 'think': 2711, 'never': 2570, '<br': 2457, 'also': 2444, 'plot': 2410, 'movie.': 2372, 'watch': 2338, 'little': 2321, 'know': 2301, 'acting': 2297, 'way': 2282, 'ever': 2258, 'two': 2233, 'many': 2233, 'movies': 2222, 'it.': 2185, 'character': 2143, 'characters': 2129, 'nothing': 2119, 'better': 2055, 'seen': 2029, \"i'm\": 2026, 'something': 1990, 'say': 1982, 'go': 1976, 'watching': 1898, 'thing': 1797, 'actually': 1792, 'worst': 1777, 'movie,': 1755, 'great': 1744, 'films': 1738, 'scene': 1720, 'film.': 1711, 'going': 1707, 'show': 1696, 'want': 1647, 'scenes': 1646, 'well': 1633, 'still': 1631, '/>i': 1618, 'look': 1613, 'pretty': 1606, 'every': 1600, \"can't\": 1595, 'seems': 1573, 'another': 1569, 'back': 1548, \"that's\": 1513, 'end': 1512, 'real': 1508, 'film,': 1500, 'got': 1496, 'find': 1461, 'makes': 1429, 'give': 1425, 'love': 1421, '&': 1420, 'least': 1418, \"i've\": 1400, 'actors': 1399, 'old': 1398, 'take': 1397, \"there's\": 1385, 'best': 1367, 'new': 1358, 'horror': 1352, 'lot': 1348, 'whole': 1344, 'gets': 1332, 'director': 1313, 'around': 1295, 'part': 1288, 'might': 1276, 'it,': 1274, 'original': 1272, 'thought': 1262, 'man': 1257}\n"
     ]
    }
   ],
   "source": [
    "print(\"Positive\", dict(c1.most_common(100)), \"Negative\", dict(c2.most_common(100)), sep='\\n')"
   ]
  },
  {
   "cell_type": "code",
   "execution_count": 50,
   "metadata": {},
   "outputs": [
    {
     "name": "stdout",
     "output_type": "stream",
     "text": [
      "82\n"
     ]
    }
   ],
   "source": [
    "pos_neg_count = 0\n",
    "for val in dict(c1.most_common(100)).keys():\n",
    "    if val in dict(c2.most_common(100)).keys():\n",
    "        pos_neg_count = pos_neg_count + 1\n",
    "print(pos_neg_count)"
   ]
  },
  {
   "cell_type": "markdown",
   "metadata": {},
   "source": [
    "As we can see, most of the features are the same. And the most popular ones are slightly different in order."
   ]
  },
  {
   "cell_type": "markdown",
   "metadata": {},
   "source": [
    "**Task 1.6 [2 points] - Reducing dimensionality**\n",
    "\n",
    "The goal is to reduce number of features to 15000.\n",
    "\n",
    "Implement the following methods of dimensinality reduction:\n",
    "1. Use CountVectorizer, but leave only 15k most frequent tokens\n",
    "2. Use HashingVectorizer with 15k features\n",
    "3. Use 15k most important features from perspective of previously trained RandomForest\n",
    "\n",
    "*Hints:*\n",
    "- in 1 and 2 you don't have to apply nltk.corpus.stopwords, vectorizers have `stopwords` parameter\n",
    "- in 1 look for `vocabulary` parameter\n",
    "- in 3... remember `lab02`? You may use `X_train_0` and `X_test_0` as input matrices\n",
    "\n",
    "Train LogisticRegression and RandomForest on each dataset and compare ROC AUC scores of the classifiers."
   ]
  },
  {
   "cell_type": "code",
   "execution_count": 51,
   "metadata": {},
   "outputs": [],
   "source": [
    "from sklearn.feature_extraction.text import CountVectorizer, HashingVectorizer"
   ]
  },
  {
   "cell_type": "markdown",
   "metadata": {},
   "source": [
    "- **1**"
   ]
  },
  {
   "cell_type": "code",
   "execution_count": 52,
   "metadata": {},
   "outputs": [],
   "source": [
    "tokens = []\n",
    "tk = WhitespaceTokenizer()\n",
    "for x in X_train:\n",
    "    tokens.append(tk.tokenize(x.lower()))"
   ]
  },
  {
   "cell_type": "code",
   "execution_count": 53,
   "metadata": {},
   "outputs": [],
   "source": [
    "tokens = [t for token in tokens for t in token if t not in stops]\n",
    "c = Counter(tokens)"
   ]
  },
  {
   "cell_type": "code",
   "execution_count": 54,
   "metadata": {},
   "outputs": [],
   "source": [
    "vocabulary = dict(c.most_common(15000)).keys()"
   ]
  },
  {
   "cell_type": "code",
   "execution_count": 55,
   "metadata": {},
   "outputs": [],
   "source": [
    "count_vectorizer = CountVectorizer(stop_words=\"english\", vocabulary=vocabulary)"
   ]
  },
  {
   "cell_type": "code",
   "execution_count": 56,
   "metadata": {},
   "outputs": [
    {
     "name": "stdout",
     "output_type": "stream",
     "text": [
      "(20000, 15000) (5000, 15000)\n"
     ]
    }
   ],
   "source": [
    "count_vectorizer.fit(X_train)\n",
    "X_train_01 = count_vectorizer.transform(X_train)\n",
    "X_test_01 = count_vectorizer.transform(X_test)\n",
    "\n",
    "print(X_train_01.shape, X_test_01.shape)"
   ]
  },
  {
   "cell_type": "code",
   "execution_count": 57,
   "metadata": {},
   "outputs": [],
   "source": [
    "rf_model_1 = RandomForestClassifier(n_estimators=500, n_jobs=-1)\n",
    "lr_model_1 = LogisticRegression(max_iter=1e5, n_jobs=-1)"
   ]
  },
  {
   "cell_type": "code",
   "execution_count": 58,
   "metadata": {},
   "outputs": [
    {
     "name": "stdout",
     "output_type": "stream",
     "text": [
      "LR time is 3.10444\n"
     ]
    }
   ],
   "source": [
    "start_1 = tm.time()\n",
    "lr_model_1.fit(X_train_01, y_train)\n",
    "end_1 = tm.time()\n",
    "print(\"LR time is\", round(end_1 - start_1, 5))"
   ]
  },
  {
   "cell_type": "code",
   "execution_count": 59,
   "metadata": {},
   "outputs": [
    {
     "name": "stdout",
     "output_type": "stream",
     "text": [
      "RF time is 46.85768\n"
     ]
    }
   ],
   "source": [
    "start_2 = tm.time()\n",
    "rf_model_1.fit(X_train_01, y_train)\n",
    "end_2 = tm.time()\n",
    "print(\"RF time is\", round(end_2 - start_2, 5))"
   ]
  },
  {
   "cell_type": "markdown",
   "metadata": {},
   "source": [
    "It looks faster and it`s cool)"
   ]
  },
  {
   "cell_type": "code",
   "execution_count": 60,
   "metadata": {},
   "outputs": [],
   "source": [
    "predict_1 = []\n",
    "predict_proba_1 = []\n",
    "for clf in [lr_model_1, rf_model_1]:\n",
    "    pred = clf.predict(X_test_01)\n",
    "    predict_1.append(pred)\n",
    "    pred = clf.predict_proba(X_test_01)[:, 1]\n",
    "    predict_proba_1.append(pred)"
   ]
  },
  {
   "cell_type": "code",
   "execution_count": 61,
   "metadata": {},
   "outputs": [
    {
     "data": {
      "image/png": "[encoded data removed]",
      "text/plain": [
       "<Figure size 1500x500 with 2 Axes>"
      ]
     },
     "metadata": {},
     "output_type": "display_data"
    }
   ],
   "source": [
    "fpr = dict()\n",
    "tpr = dict()\n",
    "roc_auc = dict()\n",
    "for i in range(2):\n",
    "    fpr[i], tpr[i], _ =  roc_curve(y_test, predict_proba_1[i])\n",
    "    roc_auc[i] = roc_auc_score(y_test, predict_proba_1[i])\n",
    "\n",
    "fig, ax = plt.subplots(nrows=1, ncols=2, figsize=(15, 5), sharey=True)\n",
    "fig.suptitle(\"ROC Curve\", fontsize=16)\n",
    "ax[0].plot(fpr[0], tpr[0], color=\"darkorange\", lw=2, label=\"ROC curve (area = %0.2f)\" % roc_auc[0])\n",
    "ax[0].set_title(\"Logistic Regression\")\n",
    "ax[0].set_ylabel('True Positive Rate')\n",
    "ax[0].set_xlabel('False Positive Rate')\n",
    "ax[0].plot([0, 1], [0, 1], color=\"navy\", lw=2, linestyle=\"--\")\n",
    "ax[0].set_xlim([0.0, 1.0])\n",
    "ax[0].set_ylim([0.0, 1.05])\n",
    "ax[0].legend(loc=\"lower right\")\n",
    "\n",
    "ax[1].plot(fpr[1], tpr[1], color=\"darkorange\", lw=2, label=\"ROC curve (area = %0.2f)\" % roc_auc[1])\n",
    "ax[1].set_title(\"Random Forest\")\n",
    "ax[1].set_ylabel('True Positive Rate')\n",
    "ax[1].set_xlabel('False Positive Rate')\n",
    "ax[1].plot([0, 1], [0, 1], color=\"navy\", lw=2, linestyle=\"--\")\n",
    "ax[1].set_xlim([0.0, 1.0])\n",
    "ax[1].set_ylim([0.0, 1.05])\n",
    "ax[1].legend(loc=\"lower right\")\n",
    "\n",
    "plt.show()\n"
   ]
  },
  {
   "cell_type": "markdown",
   "metadata": {},
   "source": [
    "This time scores are same and a little worse than all features model score."
   ]
  },
  {
   "cell_type": "markdown",
   "metadata": {},
   "source": [
    "- **2**"
   ]
  },
  {
   "cell_type": "code",
   "execution_count": 62,
   "metadata": {},
   "outputs": [],
   "source": [
    "hashing_vectorizer = HashingVectorizer(stop_words=\"english\", n_features=15000)"
   ]
  },
  {
   "cell_type": "code",
   "execution_count": 63,
   "metadata": {},
   "outputs": [
    {
     "name": "stdout",
     "output_type": "stream",
     "text": [
      "(20000, 15000) (5000, 15000)\n"
     ]
    }
   ],
   "source": [
    "hashing_vectorizer.fit(X_train)\n",
    "X_train_02 = hashing_vectorizer.transform(X_train)\n",
    "X_test_02 = hashing_vectorizer.transform(X_test)\n",
    "\n",
    "print(X_train_02.shape, X_test_02.shape)"
   ]
  },
  {
   "cell_type": "code",
   "execution_count": 64,
   "metadata": {},
   "outputs": [],
   "source": [
    "rf_model_2 = RandomForestClassifier(n_estimators=500, n_jobs=-1)\n",
    "lr_model_2 = LogisticRegression(max_iter=1e5, n_jobs=-1)"
   ]
  },
  {
   "cell_type": "code",
   "execution_count": 65,
   "metadata": {},
   "outputs": [
    {
     "name": "stdout",
     "output_type": "stream",
     "text": [
      "LR time is 2.2462\n"
     ]
    }
   ],
   "source": [
    "start_1 = tm.time()\n",
    "lr_model_2.fit(X_train_02, y_train)\n",
    "end_1 = tm.time()\n",
    "print(\"LR time is\", round(end_1 - start_1, 5))"
   ]
  },
  {
   "cell_type": "code",
   "execution_count": 66,
   "metadata": {},
   "outputs": [
    {
     "name": "stdout",
     "output_type": "stream",
     "text": [
      "RF time is 39.63495\n"
     ]
    }
   ],
   "source": [
    "start_2 = tm.time()\n",
    "rf_model_2.fit(X_train_02, y_train)\n",
    "end_2 = tm.time()\n",
    "print(\"RF time is\", round(end_2 - start_2, 5))"
   ]
  },
  {
   "cell_type": "markdown",
   "metadata": {},
   "source": [
    "Wow, it`s faster again!"
   ]
  },
  {
   "cell_type": "code",
   "execution_count": 67,
   "metadata": {},
   "outputs": [],
   "source": [
    "predict_2 = []\n",
    "predict_proba_2 = []\n",
    "for clf in [lr_model_2, rf_model_2]:\n",
    "    pred = clf.predict(X_test_02)\n",
    "    predict_2.append(pred)\n",
    "    pred = clf.predict_proba(X_test_02)[:, 1]\n",
    "    predict_proba_2.append(pred)"
   ]
  },
  {
   "cell_type": "code",
   "execution_count": 68,
   "metadata": {},
   "outputs": [
    {
     "data": {
      "image/png": "[encoded data removed]",
      "text/plain": [
       "<Figure size 1500x500 with 2 Axes>"
      ]
     },
     "metadata": {},
     "output_type": "display_data"
    }
   ],
   "source": [
    "fpr = dict()\n",
    "tpr = dict()\n",
    "roc_auc = dict()\n",
    "for i in range(2):\n",
    "    fpr[i], tpr[i], _ =  roc_curve(y_test, predict_proba_2[i])\n",
    "    roc_auc[i] = roc_auc_score(y_test, predict_proba_2[i])\n",
    "\n",
    "fig, ax = plt.subplots(nrows=1, ncols=2, figsize=(15, 5), sharey=True)\n",
    "fig.suptitle(\"ROC Curve\", fontsize=16)\n",
    "ax[0].plot(fpr[0], tpr[0], color=\"darkorange\", lw=2, label=\"ROC curve (area = %0.2f)\" % roc_auc[0])\n",
    "ax[0].set_title(\"Logistic Regression\")\n",
    "ax[0].set_ylabel('True Positive Rate')\n",
    "ax[0].set_xlabel('False Positive Rate')\n",
    "ax[0].plot([0, 1], [0, 1], color=\"navy\", lw=2, linestyle=\"--\")\n",
    "ax[0].set_xlim([0.0, 1.0])\n",
    "ax[0].set_ylim([0.0, 1.05])\n",
    "ax[0].legend(loc=\"lower right\")\n",
    "\n",
    "ax[1].plot(fpr[1], tpr[1], color=\"darkorange\", lw=2, label=\"ROC curve (area = %0.2f)\" % roc_auc[1])\n",
    "ax[1].set_title(\"Random Forest\")\n",
    "ax[1].set_ylabel('True Positive Rate')\n",
    "ax[1].set_xlabel('False Positive Rate')\n",
    "ax[1].plot([0, 1], [0, 1], color=\"navy\", lw=2, linestyle=\"--\")\n",
    "ax[1].set_xlim([0.0, 1.0])\n",
    "ax[1].set_ylim([0.0, 1.05])\n",
    "ax[1].legend(loc=\"lower right\")\n",
    "\n",
    "plt.show()\n"
   ]
  },
  {
   "cell_type": "markdown",
   "metadata": {},
   "source": [
    "In this pair of models we can see the same difference as at the first time and very close results to it."
   ]
  },
  {
   "cell_type": "markdown",
   "metadata": {},
   "source": [
    "- **3**"
   ]
  },
  {
   "cell_type": "code",
   "execution_count": 69,
   "metadata": {},
   "outputs": [
    {
     "data": {
      "text/plain": [
       "(20000, 68482)"
      ]
     },
     "execution_count": 69,
     "metadata": {},
     "output_type": "execute_result"
    }
   ],
   "source": [
    "X_train_0.shape"
   ]
  },
  {
   "cell_type": "code",
   "execution_count": 70,
   "metadata": {},
   "outputs": [],
   "source": [
    "features_im = rf_model.feature_importances_\n",
    "features = dict(zip(count_vectorizer.get_feature_names_out(), features_im))"
   ]
  },
  {
   "cell_type": "code",
   "execution_count": 71,
   "metadata": {},
   "outputs": [],
   "source": [
    "features_sorted = sorted(features, key=features.get, reverse=True)"
   ]
  },
  {
   "cell_type": "code",
   "execution_count": 72,
   "metadata": {},
   "outputs": [
    {
     "name": "stdout",
     "output_type": "stream",
     "text": [
      "['overrated', 'differences', 'tied', 'intensely', 'shouting', 'ambitious', 'dad', 'anime', '1980s,', 'fantasy.']\n"
     ]
    }
   ],
   "source": [
    "print(features_sorted[0:10])"
   ]
  },
  {
   "cell_type": "code",
   "execution_count": 73,
   "metadata": {},
   "outputs": [],
   "source": [
    "count_vectorizer = CountVectorizer(stop_words=\"english\", vocabulary=features_sorted[0:15000])"
   ]
  },
  {
   "cell_type": "code",
   "execution_count": 74,
   "metadata": {},
   "outputs": [
    {
     "name": "stdout",
     "output_type": "stream",
     "text": [
      "(20000, 15000) (5000, 15000)\n"
     ]
    }
   ],
   "source": [
    "count_vectorizer.fit(X_train)\n",
    "X_train_03 = count_vectorizer.transform(X_train)\n",
    "X_test_03 = count_vectorizer.transform(X_test)\n",
    "\n",
    "print(X_train_03.shape, X_test_03.shape)"
   ]
  },
  {
   "cell_type": "code",
   "execution_count": 75,
   "metadata": {},
   "outputs": [],
   "source": [
    "rf_model_3 = RandomForestClassifier(n_estimators=500, n_jobs=-1)\n",
    "lr_model_3 = LogisticRegression(max_iter=1e5, n_jobs=-1)"
   ]
  },
  {
   "cell_type": "code",
   "execution_count": 76,
   "metadata": {},
   "outputs": [
    {
     "name": "stdout",
     "output_type": "stream",
     "text": [
      "LR time is 2.49431\n"
     ]
    }
   ],
   "source": [
    "start_1 = tm.time()\n",
    "lr_model_3.fit(X_train_03, y_train)\n",
    "end_1 = tm.time()\n",
    "print(\"LR time is\", round(end_1 - start_1, 5))"
   ]
  },
  {
   "cell_type": "code",
   "execution_count": 77,
   "metadata": {},
   "outputs": [
    {
     "name": "stdout",
     "output_type": "stream",
     "text": [
      "RF time is 40.18095\n"
     ]
    }
   ],
   "source": [
    "start_2 = tm.time()\n",
    "rf_model_3.fit(X_train_03, y_train)\n",
    "end_2 = tm.time()\n",
    "print(\"RF time is\", round(end_2 - start_2, 5))"
   ]
  },
  {
   "cell_type": "code",
   "execution_count": 78,
   "metadata": {},
   "outputs": [],
   "source": [
    "predict_3 = []\n",
    "predict_proba_3 = []\n",
    "for clf in [lr_model_3, rf_model_3]:\n",
    "    pred = clf.predict(X_test_03)\n",
    "    predict_3.append(pred)\n",
    "    pred = clf.predict_proba(X_test_03)[:, 1]\n",
    "    predict_proba_3.append(pred)"
   ]
  },
  {
   "cell_type": "code",
   "execution_count": 79,
   "metadata": {},
   "outputs": [
    {
     "data": {
      "image/png": "[encoded data removed]",
      "text/plain": [
       "<Figure size 1500x500 with 2 Axes>"
      ]
     },
     "metadata": {},
     "output_type": "display_data"
    }
   ],
   "source": [
    "fpr = dict()\n",
    "tpr = dict()\n",
    "roc_auc = dict()\n",
    "for i in range(2):\n",
    "    fpr[i], tpr[i], _ =  roc_curve(y_test, predict_proba_3[i])\n",
    "    roc_auc[i] = roc_auc_score(y_test, predict_proba_3[i])\n",
    "\n",
    "fig, ax = plt.subplots(nrows=1, ncols=2, figsize=(15, 5), sharey=True)\n",
    "fig.suptitle(\"ROC Curve\", fontsize=16)\n",
    "ax[0].plot(fpr[0], tpr[0], color=\"darkorange\", lw=2, label=\"ROC curve (area = %0.2f)\" % roc_auc[0])\n",
    "ax[0].set_title(\"Logistic Regression\")\n",
    "ax[0].set_ylabel('True Positive Rate')\n",
    "ax[0].set_xlabel('False Positive Rate')\n",
    "ax[0].plot([0, 1], [0, 1], color=\"navy\", lw=2, linestyle=\"--\")\n",
    "ax[0].set_xlim([0.0, 1.0])\n",
    "ax[0].set_ylim([0.0, 1.05])\n",
    "ax[0].legend(loc=\"lower right\")\n",
    "\n",
    "ax[1].plot(fpr[1], tpr[1], color=\"darkorange\", lw=2, label=\"ROC curve (area = %0.2f)\" % roc_auc[1])\n",
    "ax[1].set_title(\"Random Forest\")\n",
    "ax[1].set_ylabel('True Positive Rate')\n",
    "ax[1].set_xlabel('False Positive Rate')\n",
    "ax[1].plot([0, 1], [0, 1], color=\"navy\", lw=2, linestyle=\"--\")\n",
    "ax[1].set_xlim([0.0, 1.0])\n",
    "ax[1].set_ylim([0.0, 1.05])\n",
    "ax[1].legend(loc=\"lower right\")\n",
    "\n",
    "plt.show()\n"
   ]
  },
  {
   "cell_type": "markdown",
   "metadata": {},
   "source": [
    "The same results as for the second method but it work slower."
   ]
  },
  {
   "cell_type": "markdown",
   "metadata": {},
   "source": [
    "**Task 1.7 [2 points] - Token Normalization**\n",
    "\n",
    "Choose the best working method from previous task. Try improve it by applying a token normalization technique.\n",
    "\n",
    "You may use one of normalizers imported below, but feel free to experiment.\n",
    "\n",
    "Do the following:\n",
    "- Apply normalizer to X_train, X_test\n",
    "- Build BOW with CountVectorizer + stopwords. What are the shapes of train and test matrices now?\n",
    "- Reduce dimensionality with the best method from Task 2.6. You may try all of them\n",
    "- Train LR/RF to examine whether ROC AUC or Accuracy was improved."
   ]
  },
  {
   "cell_type": "code",
   "execution_count": 80,
   "metadata": {},
   "outputs": [],
   "source": [
    "from nltk.stem import WordNetLemmatizer, PorterStemmer"
   ]
  },
  {
   "cell_type": "code",
   "execution_count": 81,
   "metadata": {},
   "outputs": [
    {
     "name": "stderr",
     "output_type": "stream",
     "text": [
      "[nltk_data] Downloading package wordnet to\n",
      "[nltk_data]     C:\\Users\\timo2\\AppData\\Roaming\\nltk_data...\n",
      "[nltk_data]   Package wordnet is already up-to-date!\n",
      "[nltk_data] Downloading package omw-1.4 to\n",
      "[nltk_data]     C:\\Users\\timo2\\AppData\\Roaming\\nltk_data...\n",
      "[nltk_data]   Package omw-1.4 is already up-to-date!\n"
     ]
    },
    {
     "data": {
      "text/plain": [
       "True"
      ]
     },
     "execution_count": 81,
     "metadata": {},
     "output_type": "execute_result"
    }
   ],
   "source": [
    "nltk.download('wordnet')\n",
    "nltk.download('omw-1.4')"
   ]
  },
  {
   "cell_type": "code",
   "execution_count": 82,
   "metadata": {},
   "outputs": [],
   "source": [
    "wnl = WordNetLemmatizer()\n",
    "\n",
    "X_train_1 = [wnl.lemmatize(x) for x in X_train]\n",
    "X_test_1 = [wnl.lemmatize(x) for x in X_test]"
   ]
  },
  {
   "cell_type": "code",
   "execution_count": 83,
   "metadata": {},
   "outputs": [
    {
     "name": "stdout",
     "output_type": "stream",
     "text": [
      "(20000, 68172) (5000, 68172)\n"
     ]
    }
   ],
   "source": [
    "count_vectorizer = CountVectorizer(stop_words=\"english\")\n",
    "\n",
    "count_vectorizer.fit(X_train_1)\n",
    "X_train_10 = count_vectorizer.transform(X_train_1)\n",
    "X_test_10 = count_vectorizer.transform(X_test_1)\n",
    "\n",
    "print(X_train_10.shape, X_test_10.shape)"
   ]
  },
  {
   "cell_type": "code",
   "execution_count": 84,
   "metadata": {},
   "outputs": [],
   "source": [
    "hashing_vectorizer = HashingVectorizer(stop_words=\"english\", n_features=15000)"
   ]
  },
  {
   "cell_type": "code",
   "execution_count": 85,
   "metadata": {},
   "outputs": [
    {
     "name": "stdout",
     "output_type": "stream",
     "text": [
      "(20000, 15000) (5000, 15000)\n"
     ]
    }
   ],
   "source": [
    "hashing_vectorizer.fit(X_train_1)\n",
    "X_train_11 = hashing_vectorizer.transform(X_train_1)\n",
    "X_test_11 = hashing_vectorizer.transform(X_test_1)\n",
    "\n",
    "print(X_train_11.shape, X_test_11.shape)"
   ]
  },
  {
   "cell_type": "code",
   "execution_count": 86,
   "metadata": {},
   "outputs": [],
   "source": [
    "rf_model_10 = RandomForestClassifier(n_estimators=500, n_jobs=-1)\n",
    "lr_model_10 = LogisticRegression(max_iter=1e5, n_jobs=-1)"
   ]
  },
  {
   "cell_type": "code",
   "execution_count": 87,
   "metadata": {},
   "outputs": [
    {
     "name": "stdout",
     "output_type": "stream",
     "text": [
      "LR time is 1.26663\n"
     ]
    }
   ],
   "source": [
    "start_1 = tm.time()\n",
    "lr_model_10.fit(X_train_11, y_train)\n",
    "end_1 = tm.time()\n",
    "print(\"LR time is\", round(end_1 - start_1, 5))"
   ]
  },
  {
   "cell_type": "code",
   "execution_count": 88,
   "metadata": {},
   "outputs": [
    {
     "name": "stdout",
     "output_type": "stream",
     "text": [
      "RF time is 39.68896\n"
     ]
    }
   ],
   "source": [
    "start_2 = tm.time()\n",
    "rf_model_10.fit(X_train_11, y_train)\n",
    "end_2 = tm.time()\n",
    "print(\"RF time is\", round(end_2 - start_2, 5))"
   ]
  },
  {
   "cell_type": "code",
   "execution_count": 89,
   "metadata": {},
   "outputs": [],
   "source": [
    "predict_10 = []\n",
    "predict_proba_10 = []\n",
    "for clf in [lr_model_10, rf_model_10]:\n",
    "    pred = clf.predict(X_test_11)\n",
    "    predict_10.append(pred)\n",
    "    pred = clf.predict_proba(X_test_11)[:, 1]\n",
    "    predict_proba_10.append(pred)"
   ]
  },
  {
   "cell_type": "code",
   "execution_count": 90,
   "metadata": {},
   "outputs": [
    {
     "data": {
      "image/png": "[encoded data removed]",
      "text/plain": [
       "<Figure size 1500x500 with 2 Axes>"
      ]
     },
     "metadata": {},
     "output_type": "display_data"
    }
   ],
   "source": [
    "fpr = dict()\n",
    "tpr = dict()\n",
    "roc_auc = dict()\n",
    "for i in range(2):\n",
    "    fpr[i], tpr[i], _ =  roc_curve(y_test, predict_proba_10[i])\n",
    "    roc_auc[i] = roc_auc_score(y_test, predict_proba_10[i])\n",
    "\n",
    "fig, ax = plt.subplots(nrows=1, ncols=2, figsize=(15, 5), sharey=True)\n",
    "fig.suptitle(\"ROC Curve\", fontsize=16)\n",
    "ax[0].plot(fpr[0], tpr[0], color=\"darkorange\", lw=2, label=\"ROC curve (area = %0.2f)\" % roc_auc[0])\n",
    "ax[0].set_title(\"Logistic Regression\")\n",
    "ax[0].set_ylabel('True Positive Rate')\n",
    "ax[0].set_xlabel('False Positive Rate')\n",
    "ax[0].plot([0, 1], [0, 1], color=\"navy\", lw=2, linestyle=\"--\")\n",
    "ax[0].set_xlim([0.0, 1.0])\n",
    "ax[0].set_ylim([0.0, 1.05])\n",
    "ax[0].legend(loc=\"lower right\")\n",
    "\n",
    "ax[1].plot(fpr[1], tpr[1], color=\"darkorange\", lw=2, label=\"ROC curve (area = %0.2f)\" % roc_auc[1])\n",
    "ax[1].set_title(\"Random Forest\")\n",
    "ax[1].set_ylabel('True Positive Rate')\n",
    "ax[1].set_xlabel('False Positive Rate')\n",
    "ax[1].plot([0, 1], [0, 1], color=\"navy\", lw=2, linestyle=\"--\")\n",
    "ax[1].set_xlim([0.0, 1.0])\n",
    "ax[1].set_ylim([0.0, 1.05])\n",
    "ax[1].legend(loc=\"lower right\")\n",
    "\n",
    "plt.show()\n"
   ]
  },
  {
   "cell_type": "markdown",
   "metadata": {},
   "source": [
    "## Part 2. Word Embeddings [7 points]"
   ]
  },
  {
   "cell_type": "code",
   "execution_count": 91,
   "metadata": {},
   "outputs": [],
   "source": [
    "import gensim.downloader"
   ]
  },
  {
   "cell_type": "markdown",
   "metadata": {},
   "source": [
    "Here is the list of pretrained word embedding models. We suggest using `glove-wiki-gigaword-100`."
   ]
  },
  {
   "cell_type": "code",
   "execution_count": 92,
   "metadata": {},
   "outputs": [
    {
     "data": {
      "text/plain": [
       "['fasttext-wiki-news-subwords-300',\n",
       " 'conceptnet-numberbatch-17-06-300',\n",
       " 'word2vec-ruscorpora-300',\n",
       " 'word2vec-google-news-300',\n",
       " 'glove-wiki-gigaword-50',\n",
       " 'glove-wiki-gigaword-100',\n",
       " 'glove-wiki-gigaword-200',\n",
       " 'glove-wiki-gigaword-300',\n",
       " 'glove-twitter-25',\n",
       " 'glove-twitter-50',\n",
       " 'glove-twitter-100',\n",
       " 'glove-twitter-200',\n",
       " '__testing_word2vec-matrix-synopsis']"
      ]
     },
     "execution_count": 92,
     "metadata": {},
     "output_type": "execute_result"
    }
   ],
   "source": [
    "list(gensim.downloader.info()['models'].keys())"
   ]
  },
  {
   "cell_type": "code",
   "execution_count": 93,
   "metadata": {},
   "outputs": [],
   "source": [
    "word_embeddings = gensim.downloader.load(\"glove-wiki-gigaword-100\")"
   ]
  },
  {
   "cell_type": "markdown",
   "metadata": {},
   "source": [
    "**Task 2.1 [1 point] - WordEmbeddings Geometry**\n",
    "\n",
    "As you probably know, vector space of word embeddings has non-trivial geometry: some word relations (like country-capital or single-plural) cab be represented by vectors, like: **(king - man) + woman = queen**\n",
    "\n",
    "<img src=\"https://linkme.ufanet.ru/images/5687a2011b49eb2413912f1c7d0fb0bd.png\" width=600px>\n",
    "\n",
    "Check this statement on words from the above picture with `word_embeddings.most_similar` function. Pay attention to `positive` and `negative` params.\n",
    "\n",
    "Provide **several** examples, make sure to present different relations: some for nouns, some for verbs, etc."
   ]
  },
  {
   "cell_type": "code",
   "execution_count": 104,
   "metadata": {},
   "outputs": [
    {
     "data": {
      "text/plain": [
       "[('queen', 0.7698540687561035), ('monarch', 0.6843381524085999)]"
      ]
     },
     "execution_count": 104,
     "metadata": {},
     "output_type": "execute_result"
    }
   ],
   "source": [
    "word_embeddings.most_similar(positive=['woman', 'king'], negative=['man'], topn=2)"
   ]
  },
  {
   "cell_type": "code",
   "execution_count": 105,
   "metadata": {},
   "outputs": [
    {
     "data": {
      "text/plain": [
       "[('italy', 0.7002978324890137), ('roman', 0.631718099117279)]"
      ]
     },
     "execution_count": 105,
     "metadata": {},
     "output_type": "execute_result"
    }
   ],
   "source": [
    "word_embeddings.most_similar(positive=['england', 'rome'], negative=['london'], topn=2)"
   ]
  },
  {
   "cell_type": "code",
   "execution_count": 120,
   "metadata": {},
   "outputs": [
    {
     "data": {
      "text/plain": [
       "[('drank', 0.8113983273506165), ('drinks', 0.7553770542144775)]"
      ]
     },
     "execution_count": 120,
     "metadata": {},
     "output_type": "execute_result"
    }
   ],
   "source": [
    "word_embeddings.most_similar(positive=['looked', 'drink'], negative=['look'], topn=2)"
   ]
  },
  {
   "cell_type": "code",
   "execution_count": 122,
   "metadata": {},
   "outputs": [
    {
     "data": {
      "text/plain": [
       "[('wearing', 0.8005819916725159), ('wore', 0.778825044631958)]"
      ]
     },
     "execution_count": 122,
     "metadata": {},
     "output_type": "execute_result"
    }
   ],
   "source": [
    "word_embeddings.most_similar(positive=['going', 'wear'], negative=['go'], topn=2)"
   ]
  },
  {
   "cell_type": "code",
   "execution_count": 123,
   "metadata": {},
   "outputs": [
    {
     "data": {
      "text/plain": [
       "[('comes', 0.8977324962615967), ('goes', 0.8343337774276733)]"
      ]
     },
     "execution_count": 123,
     "metadata": {},
     "output_type": "execute_result"
    }
   ],
   "source": [
    "word_embeddings.most_similar(positive=['does', 'come'], negative=['do'], topn=2)"
   ]
  },
  {
   "cell_type": "code",
   "execution_count": 135,
   "metadata": {},
   "outputs": [
    {
     "data": {
      "text/plain": [
       "[('herself', 0.9654035568237305), ('her', 0.8058045506477356)]"
      ]
     },
     "execution_count": 135,
     "metadata": {},
     "output_type": "execute_result"
    }
   ],
   "source": [
    "word_embeddings.most_similar(positive=['himself', 'she'], negative=['he'], topn=2)"
   ]
  },
  {
   "cell_type": "markdown",
   "metadata": {},
   "source": [
    "But it is not so good every time"
   ]
  },
  {
   "cell_type": "code",
   "execution_count": 138,
   "metadata": {},
   "outputs": [
    {
     "data": {
      "text/plain": [
       "[('returned', 0.8331507444381714),\n",
       " ('return', 0.8167383670806885),\n",
       " ('immediately', 0.7941232323646545),\n",
       " ('leaving', 0.7807642221450806),\n",
       " ('later', 0.7713992595672607),\n",
       " ('refused', 0.7688611149787903),\n",
       " ('soon', 0.7683849930763245),\n",
       " ('came', 0.7664516568183899),\n",
       " ('left', 0.763020396232605),\n",
       " ('took', 0.7575095295906067)]"
      ]
     },
     "execution_count": 138,
     "metadata": {},
     "output_type": "execute_result"
    }
   ],
   "source": [
    "word_embeddings.most_similar(positive=['did', 'leave'], negative=['do'], topn=10)"
   ]
  },
  {
   "cell_type": "markdown",
   "metadata": {},
   "source": [
    "We were waiting *left* but it`s only top-9"
   ]
  },
  {
   "cell_type": "code",
   "execution_count": 140,
   "metadata": {},
   "outputs": [
    {
     "data": {
      "text/plain": [
       "[('faster', 0.7085668444633484),\n",
       " ('weaker', 0.5875832438468933),\n",
       " ('slowing', 0.5863884687423706),\n",
       " ('quicker', 0.5862624049186707),\n",
       " ('slowest', 0.5706308484077454),\n",
       " ('contraction', 0.5534616112709045),\n",
       " ('shorter', 0.5459062457084656),\n",
       " ('forecasts', 0.5329715013504028),\n",
       " ('noticeably', 0.5232601165771484),\n",
       " ('considerably', 0.5217990279197693)]"
      ]
     },
     "execution_count": 140,
     "metadata": {},
     "output_type": "execute_result"
    }
   ],
   "source": [
    "word_embeddings.most_similar(positive=['slower', 'slower'], negative=['slow'], topn=10)"
   ]
  },
  {
   "cell_type": "markdown",
   "metadata": {},
   "source": [
    "We were waiting *slowest* but it`s only top-5"
   ]
  },
  {
   "cell_type": "markdown",
   "metadata": {},
   "source": [
    "**Task 2.2 [2 point] - POS analysis**\n",
    "\n",
    "Use POS tagger to calculate most common POS in the dataset. \n",
    "Here you may read about nltk-taggers: [link](https://www.inf.ed.ac.uk/teaching/courses/icl/nltk/tagging.pdf)\n",
    "\n",
    "- If you were to design POS-related weights, how would you do it? \n",
    "- What POS would get the higher weight? "
   ]
  },
  {
   "cell_type": "code",
   "execution_count": 141,
   "metadata": {},
   "outputs": [],
   "source": [
    "from nltk import pos_tag"
   ]
  },
  {
   "cell_type": "code",
   "execution_count": 143,
   "metadata": {},
   "outputs": [
    {
     "name": "stderr",
     "output_type": "stream",
     "text": [
      "[nltk_data] Downloading package punkt to\n",
      "[nltk_data]     C:\\Users\\timo2\\AppData\\Roaming\\nltk_data...\n",
      "[nltk_data]   Unzipping tokenizers\\punkt.zip.\n",
      "[nltk_data] Downloading package averaged_perceptron_tagger to\n",
      "[nltk_data]     C:\\Users\\timo2\\AppData\\Roaming\\nltk_data...\n",
      "[nltk_data]   Unzipping taggers\\averaged_perceptron_tagger.zip.\n"
     ]
    },
    {
     "data": {
      "text/plain": [
       "True"
      ]
     },
     "execution_count": 143,
     "metadata": {},
     "output_type": "execute_result"
    }
   ],
   "source": [
    "nltk.download('punkt')\n",
    "nltk.download('averaged_perceptron_tagger')"
   ]
  },
  {
   "cell_type": "code",
   "execution_count": 144,
   "metadata": {},
   "outputs": [],
   "source": [
    "tokens_tag = []\n",
    "\n",
    "for x in X_train:\n",
    "    tok_tag = pos_tag(tk.tokenize(x.lower()))\n",
    "    for t in tok_tag:\n",
    "        tokens_tag.append(t[1])"
   ]
  },
  {
   "cell_type": "code",
   "execution_count": 145,
   "metadata": {},
   "outputs": [
    {
     "data": {
      "text/plain": [
       "[('NN', 1036465),\n",
       " ('IN', 534008),\n",
       " ('DT', 524314),\n",
       " ('JJ', 476049),\n",
       " ('RB', 261886),\n",
       " ('VBZ', 195943),\n",
       " ('VB', 184937),\n",
       " ('CC', 177539),\n",
       " ('NNS', 172899),\n",
       " ('PRP', 153914)]"
      ]
     },
     "execution_count": 145,
     "metadata": {},
     "output_type": "execute_result"
    }
   ],
   "source": [
    "c_tag = Counter(tokens_tag)\n",
    "c_tag.most_common(10)"
   ]
  },
  {
   "cell_type": "markdown",
   "metadata": {},
   "source": [
    "The most frequent are:  \n",
    "- Noun;  \n",
    "- Preposition;  \n",
    "- Determiner;  \n",
    "- Adjective;  \n",
    "- Adverb;  \n",
    "- Verb;"
   ]
  },
  {
   "cell_type": "markdown",
   "metadata": {},
   "source": [
    "I think it's enough to use the proportion of each tag as weights. So, the largest weight will has noun"
   ]
  },
  {
   "cell_type": "markdown",
   "metadata": {},
   "source": [
    "**Task 2.3 [4 points] - WordEmbeddings**\n",
    "\n",
    "Use dense vector representations to construct vector-representation of each review, then train a model (LR or RF).\n",
    "\n",
    "Compare results of the new model to results of the models above.\n",
    "\n",
    "**Important**\n",
    "- If you just sum embeddings of each token to get an embedding of the whole review, the cost of the task is **[2 points]**\n",
    "- For **[4 points]** you have to use either TF-IDF weight or weights that you designed from POS tags."
   ]
  },
  {
   "cell_type": "markdown",
   "metadata": {},
   "source": [
    "Coming soon"
   ]
  }
 ],
 "metadata": {
  "kernelspec": {
   "display_name": "Python 3.10.4 64-bit",
   "language": "python",
   "name": "python3"
  },
  "language_info": {
   "codemirror_mode": {
    "name": "ipython",
    "version": 3
   },
   "file_extension": ".py",
   "mimetype": "text/x-python",
   "name": "python",
   "nbconvert_exporter": "python",
   "pygments_lexer": "ipython3",
   "version": "3.10.4"
  },
  "vscode": {
   "interpreter": {
    "hash": "9a22608fd316047f994308a50da8ff2876a45a85c6efa71dc148ad0e10c959df"
   }
  }
 },
 "nbformat": 4,
 "nbformat_minor": 4
}
