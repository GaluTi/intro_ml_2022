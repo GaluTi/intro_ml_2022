{
 "cells": [
  {
   "cell_type": "markdown",
   "metadata": {},
   "source": [
    "# Lab 03. Weather Predict Competition\n",
    "\n",
    "This lab consists of only one task: train a model to predict if it is going to rain the next day:\n",
    "- Classification metric is **roc-auc**\n",
    "- Score should be calculated on a hold-out set (don't use it for training)\n",
    "\n",
    "\n",
    "#### Evaluation\n",
    "- Score > 0.860 - 3 points\n",
    "- Score > 0.865 - 5 points\n",
    "- Score > 0.870 - 7 points\n",
    "- Score > 0.875 - 9 points\n",
    "- Score > 0.880 - 11 points\n",
    "- Score > 0.885 - 13 points\n",
    "- Score > 0.890 - 15 points\n",
    "- You are encouraged to use various methods and tricks to get extra points\n",
    "\n",
    "#### Do not use any external data or models that were not covered in the course (no gradient boosting and  neural nets).\n",
    "\n",
    "\n",
    "#### How to submit\n",
    "- Name your file according to this convention: `2022_lab03_GroupNumber_Surname_Name.ipynb`, for example \n",
    "    - `2022_lab03_404_Sheipak_Sviat.ipynb`\n",
    "    - `2022_lab03_NoGroup_Sheipak_Sviat.ipynb`\n",
    "- Attach your .ipynb to an email with topic `2022_lab02_GroupNumber_Surname_Name`\n",
    "- Send it to `cosmic.research.ml@yandex.ru`\n",
    "- Deadline is ` 22022-11-03 23:00:00 +03:00`\n",
    "\n",
    "#### The Data:\n",
    "- All the datasets you need are here: https://github.com/cosmic-research-ml-edu/intro_ml_2022/blob/main/homeworks/hw03/train.csv"
   ]
  },
  {
   "cell_type": "code",
   "execution_count": 1,
   "metadata": {},
   "outputs": [],
   "source": [
    "import pandas as pd\n",
    "import numpy as np"
   ]
  },
  {
   "cell_type": "code",
   "execution_count": 2,
   "metadata": {},
   "outputs": [],
   "source": [
    "db_train = pd.read_csv(\"holdout_data/train.csv\")\n",
    "db_test = pd.read_csv(\"holdout_data/holdout.csv\")"
   ]
  },
  {
   "cell_type": "code",
   "execution_count": 3,
   "metadata": {},
   "outputs": [],
   "source": [
    "from sklearn.tree import DecisionTreeClassifier\n",
    "from sklearn.ensemble import RandomForestClassifier\n",
    "\n",
    "from sklearn.model_selection import cross_val_score\n",
    "from sklearn.metrics import roc_auc_score"
   ]
  },
  {
   "cell_type": "code",
   "execution_count": 4,
   "metadata": {},
   "outputs": [],
   "source": [
    "target_col = \"raintomorrow\"\n",
    "id_cols = [\"row_id\"]"
   ]
  },
  {
   "cell_type": "code",
   "execution_count": 5,
   "metadata": {},
   "outputs": [],
   "source": [
    "Y_train = db_train[target_col].values\n",
    "db_train.drop(columns=[target_col], inplace=True)\n",
    "\n",
    "Y_test = db_test[target_col].values\n",
    "db_test.drop(columns=[target_col], inplace=True)"
   ]
  },
  {
   "cell_type": "code",
   "execution_count": 6,
   "metadata": {},
   "outputs": [],
   "source": [
    "numeric_cols = [x for x in db_train.select_dtypes(include=np.number).columns.tolist() if x not in id_cols]"
   ]
  },
  {
   "cell_type": "code",
   "execution_count": 7,
   "metadata": {},
   "outputs": [],
   "source": [
    "X_train = db_train[numeric_cols].fillna(-9999).values\n",
    "X_test = db_test[numeric_cols].fillna(-9999).values"
   ]
  },
  {
   "cell_type": "code",
   "execution_count": 8,
   "metadata": {},
   "outputs": [
    {
     "data": {
      "text/plain": [
       "0.8590878798154512"
      ]
     },
     "execution_count": 8,
     "metadata": {},
     "output_type": "execute_result"
    }
   ],
   "source": [
    "clf = RandomForestClassifier(n_estimators=150, random_state=42)\n",
    "\n",
    "clf.fit(X_train, Y_train)\n",
    "preds = clf.predict_proba(X_test)[:, 1]\n",
    "roc_auc_score(Y_test, preds)"
   ]
  }
 ],
 "metadata": {
  "kernelspec": {
   "display_name": "Python 3",
   "language": "python",
   "name": "python3"
  },
  "language_info": {
   "codemirror_mode": {
    "name": "ipython",
    "version": 3
   },
   "file_extension": ".py",
   "mimetype": "text/x-python",
   "name": "python",
   "nbconvert_exporter": "python",
   "pygments_lexer": "ipython3",
   "version": "3.9.6"
  }
 },
 "nbformat": 4,
 "nbformat_minor": 4
}
